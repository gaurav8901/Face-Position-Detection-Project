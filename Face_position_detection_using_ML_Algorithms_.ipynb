{
  "nbformat": 4,
  "nbformat_minor": 0,
  "metadata": {
    "colab": {
      "name": "Face position detection using ML Algorithms .ipynb",
      "provenance": [],
      "collapsed_sections": [],
      "include_colab_link": true
    },
    "kernelspec": {
      "name": "python3",
      "display_name": "Python 3"
    },
    "language_info": {
      "name": "python"
    }
  },
  "cells": [
    {
      "cell_type": "markdown",
      "metadata": {
        "id": "view-in-github",
        "colab_type": "text"
      },
      "source": [
        "<a href=\"https://colab.research.google.com/github/gaurav8901/Machine-Learning-/blob/main/Face_position_detection_using_ML_Algorithms_.ipynb\" target=\"_parent\"><img src=\"https://colab.research.google.com/assets/colab-badge.svg\" alt=\"Open In Colab\"/></a>"
      ]
    },
    {
      "cell_type": "code",
      "metadata": {
        "id": "uXdVeGJRxiPk"
      },
      "source": [
        "import pandas as pd\n",
        "import numpy as np\n",
        "from sklearn.datasets import load_iris\n",
        "from sklearn.linear_model import LogisticRegression, SGDClassifier\n",
        "from sklearn.multiclass import OneVsRestClassifier\n",
        "from sklearn.utils import shuffle\n",
        "from sklearn.preprocessing import MinMaxScaler\n",
        "from sklearn.model_selection import train_test_split\n",
        "import seaborn as sns\n",
        "import matplotlib.pyplot as plt\n",
        "from sklearn.model_selection import KFold\n",
        "from sklearn.metrics import confusion_matrix, precision_score, recall_score, f1_score, accuracy_score, classification_report\n",
        "import warnings\n",
        "warnings.filterwarnings('ignore')\n",
        "import plotly.express as px\n",
        "from sklearn.linear_model import LogisticRegression\n",
        "from sklearn.metrics import accuracy_score\n",
        "from sklearn.utils import shuffle\n",
        "from sklearn.metrics import classification_report, confusion_matrix\n",
        "import warnings\n",
        "warnings.filterwarnings(\"ignore\")\n",
        "dataset = pd.read_csv(\"/content/drive/MyDrive/dataset_1.csv\")"
      ],
      "execution_count": 3,
      "outputs": []
    },
    {
      "cell_type": "code",
      "metadata": {
        "colab": {
          "base_uri": "https://localhost:8080/"
        },
        "id": "-cTPsESiwSsW",
        "outputId": "6ce69ad5-0e00-44eb-8609-b407ede60220"
      },
      "source": [
        "from google.colab import drive\n",
        "drive.mount('/content/drive')"
      ],
      "execution_count": 4,
      "outputs": [
        {
          "output_type": "stream",
          "name": "stdout",
          "text": [
            "Drive already mounted at /content/drive; to attempt to forcibly remount, call drive.mount(\"/content/drive\", force_remount=True).\n"
          ]
        }
      ]
    },
    {
      "cell_type": "code",
      "metadata": {
        "id": "qNVwke97Wjaj",
        "colab": {
          "base_uri": "https://localhost:8080/"
        },
        "outputId": "787abfd0-7b3a-4f08-98cd-da15c2d7efad"
      },
      "source": [
        "dataset.info()"
      ],
      "execution_count": 5,
      "outputs": [
        {
          "output_type": "stream",
          "name": "stdout",
          "text": [
            "<class 'pandas.core.frame.DataFrame'>\n",
            "RangeIndex: 606 entries, 0 to 605\n",
            "Data columns (total 19 columns):\n",
            " #   Column    Non-Null Count  Dtype \n",
            "---  ------    --------------  ----- \n",
            " 0   fileName  606 non-null    object\n",
            " 1   subject   606 non-null    int64 \n",
            " 2   imgNum    606 non-null    int64 \n",
            " 3   label     606 non-null    int64 \n",
            " 4   ang       606 non-null    int64 \n",
            " 5   xF        606 non-null    int64 \n",
            " 6   yF        606 non-null    int64 \n",
            " 7   wF        606 non-null    int64 \n",
            " 8   hF        606 non-null    int64 \n",
            " 9   xRE       606 non-null    int64 \n",
            " 10  yRE       606 non-null    int64 \n",
            " 11  xLE       606 non-null    int64 \n",
            " 12  yLE       606 non-null    int64 \n",
            " 13  xN        606 non-null    int64 \n",
            " 14  yN        606 non-null    int64 \n",
            " 15  xRM       606 non-null    int64 \n",
            " 16  yRM       606 non-null    int64 \n",
            " 17  xLM       606 non-null    int64 \n",
            " 18  yLM       606 non-null    int64 \n",
            "dtypes: int64(18), object(1)\n",
            "memory usage: 90.1+ KB\n"
          ]
        }
      ]
    },
    {
      "cell_type": "code",
      "metadata": {
        "id": "8-Gml0rPWlq1",
        "colab": {
          "base_uri": "https://localhost:8080/"
        },
        "outputId": "c364e412-06e3-4278-d656-3e6169bbb3df"
      },
      "source": [
        "dataset.shape"
      ],
      "execution_count": 6,
      "outputs": [
        {
          "output_type": "execute_result",
          "data": {
            "text/plain": [
              "(606, 19)"
            ]
          },
          "metadata": {},
          "execution_count": 6
        }
      ]
    },
    {
      "cell_type": "code",
      "metadata": {
        "id": "TvMhuXaZWqT4",
        "colab": {
          "base_uri": "https://localhost:8080/"
        },
        "outputId": "8104856b-d544-4261-abf1-a582acb23db2"
      },
      "source": [
        "print(\"No of classes in the dataset\", dataset['label'].unique())\n",
        "print(\"No of unique values in the angle colume\", dataset['ang'].unique())"
      ],
      "execution_count": 7,
      "outputs": [
        {
          "output_type": "stream",
          "name": "stdout",
          "text": [
            "No of classes in the dataset [2 1 3]\n",
            "No of unique values in the angle colume [  0 -15 -30 -45  15  30  45]\n"
          ]
        }
      ]
    },
    {
      "cell_type": "code",
      "metadata": {
        "id": "apAtBT36Ww3l",
        "colab": {
          "base_uri": "https://localhost:8080/",
          "height": 206
        },
        "outputId": "e6950676-2de8-43ae-fb49-34163a3225f9"
      },
      "source": [
        "dataset.head(5)"
      ],
      "execution_count": 8,
      "outputs": [
        {
          "output_type": "execute_result",
          "data": {
            "text/html": [
              "<div>\n",
              "<style scoped>\n",
              "    .dataframe tbody tr th:only-of-type {\n",
              "        vertical-align: middle;\n",
              "    }\n",
              "\n",
              "    .dataframe tbody tr th {\n",
              "        vertical-align: top;\n",
              "    }\n",
              "\n",
              "    .dataframe thead th {\n",
              "        text-align: right;\n",
              "    }\n",
              "</style>\n",
              "<table border=\"1\" class=\"dataframe\">\n",
              "  <thead>\n",
              "    <tr style=\"text-align: right;\">\n",
              "      <th></th>\n",
              "      <th>fileName</th>\n",
              "      <th>subject</th>\n",
              "      <th>imgNum</th>\n",
              "      <th>label</th>\n",
              "      <th>ang</th>\n",
              "      <th>xF</th>\n",
              "      <th>yF</th>\n",
              "      <th>wF</th>\n",
              "      <th>hF</th>\n",
              "      <th>xRE</th>\n",
              "      <th>yRE</th>\n",
              "      <th>xLE</th>\n",
              "      <th>yLE</th>\n",
              "      <th>xN</th>\n",
              "      <th>yN</th>\n",
              "      <th>xRM</th>\n",
              "      <th>yRM</th>\n",
              "      <th>xLM</th>\n",
              "      <th>yLM</th>\n",
              "    </tr>\n",
              "  </thead>\n",
              "  <tbody>\n",
              "    <tr>\n",
              "      <th>0</th>\n",
              "      <td>20130529_01_Driv_001_f</td>\n",
              "      <td>1</td>\n",
              "      <td>1</td>\n",
              "      <td>2</td>\n",
              "      <td>0</td>\n",
              "      <td>292</td>\n",
              "      <td>209</td>\n",
              "      <td>100</td>\n",
              "      <td>112</td>\n",
              "      <td>323</td>\n",
              "      <td>232</td>\n",
              "      <td>367</td>\n",
              "      <td>231</td>\n",
              "      <td>353</td>\n",
              "      <td>254</td>\n",
              "      <td>332</td>\n",
              "      <td>278</td>\n",
              "      <td>361</td>\n",
              "      <td>278</td>\n",
              "    </tr>\n",
              "    <tr>\n",
              "      <th>1</th>\n",
              "      <td>20130529_01_Driv_002_f</td>\n",
              "      <td>1</td>\n",
              "      <td>2</td>\n",
              "      <td>2</td>\n",
              "      <td>0</td>\n",
              "      <td>286</td>\n",
              "      <td>200</td>\n",
              "      <td>109</td>\n",
              "      <td>128</td>\n",
              "      <td>324</td>\n",
              "      <td>235</td>\n",
              "      <td>366</td>\n",
              "      <td>235</td>\n",
              "      <td>353</td>\n",
              "      <td>258</td>\n",
              "      <td>333</td>\n",
              "      <td>281</td>\n",
              "      <td>361</td>\n",
              "      <td>281</td>\n",
              "    </tr>\n",
              "    <tr>\n",
              "      <th>2</th>\n",
              "      <td>20130529_01_Driv_003_f</td>\n",
              "      <td>1</td>\n",
              "      <td>3</td>\n",
              "      <td>2</td>\n",
              "      <td>0</td>\n",
              "      <td>290</td>\n",
              "      <td>204</td>\n",
              "      <td>105</td>\n",
              "      <td>121</td>\n",
              "      <td>325</td>\n",
              "      <td>240</td>\n",
              "      <td>367</td>\n",
              "      <td>239</td>\n",
              "      <td>351</td>\n",
              "      <td>260</td>\n",
              "      <td>334</td>\n",
              "      <td>282</td>\n",
              "      <td>362</td>\n",
              "      <td>282</td>\n",
              "    </tr>\n",
              "    <tr>\n",
              "      <th>3</th>\n",
              "      <td>20130529_01_Driv_004_f</td>\n",
              "      <td>1</td>\n",
              "      <td>4</td>\n",
              "      <td>2</td>\n",
              "      <td>0</td>\n",
              "      <td>287</td>\n",
              "      <td>202</td>\n",
              "      <td>112</td>\n",
              "      <td>118</td>\n",
              "      <td>325</td>\n",
              "      <td>230</td>\n",
              "      <td>369</td>\n",
              "      <td>230</td>\n",
              "      <td>353</td>\n",
              "      <td>253</td>\n",
              "      <td>335</td>\n",
              "      <td>274</td>\n",
              "      <td>362</td>\n",
              "      <td>275</td>\n",
              "    </tr>\n",
              "    <tr>\n",
              "      <th>4</th>\n",
              "      <td>20130529_01_Driv_005_f</td>\n",
              "      <td>1</td>\n",
              "      <td>5</td>\n",
              "      <td>2</td>\n",
              "      <td>0</td>\n",
              "      <td>290</td>\n",
              "      <td>193</td>\n",
              "      <td>104</td>\n",
              "      <td>119</td>\n",
              "      <td>325</td>\n",
              "      <td>224</td>\n",
              "      <td>366</td>\n",
              "      <td>225</td>\n",
              "      <td>353</td>\n",
              "      <td>244</td>\n",
              "      <td>333</td>\n",
              "      <td>268</td>\n",
              "      <td>363</td>\n",
              "      <td>268</td>\n",
              "    </tr>\n",
              "  </tbody>\n",
              "</table>\n",
              "</div>"
            ],
            "text/plain": [
              "                 fileName  subject  imgNum  label  ang  ...   yN  xRM  yRM  xLM  yLM\n",
              "0  20130529_01_Driv_001_f        1       1      2    0  ...  254  332  278  361  278\n",
              "1  20130529_01_Driv_002_f        1       2      2    0  ...  258  333  281  361  281\n",
              "2  20130529_01_Driv_003_f        1       3      2    0  ...  260  334  282  362  282\n",
              "3  20130529_01_Driv_004_f        1       4      2    0  ...  253  335  274  362  275\n",
              "4  20130529_01_Driv_005_f        1       5      2    0  ...  244  333  268  363  268\n",
              "\n",
              "[5 rows x 19 columns]"
            ]
          },
          "metadata": {},
          "execution_count": 8
        }
      ]
    },
    {
      "cell_type": "code",
      "metadata": {
        "id": "b0g2fu0xWr-k",
        "colab": {
          "base_uri": "https://localhost:8080/"
        },
        "outputId": "7d5c6e4b-f208-4356-fd84-e62f8d77fa65"
      },
      "source": [
        "print(\"Unique angle class:\", dataset['ang'].unique())\n",
        "angle = dataset['ang']\n",
        "angle = np.array(angle)\n",
        "for i in range(0, angle.shape[0]):\n",
        "  if(angle[i]==(-15)):\n",
        "    angle[i] = 1\n",
        "  if(angle[i]==(-30)):\n",
        "    angle[i] = 2\n",
        "  if(angle[i]==(-45)):\n",
        "    angle[i] = 3\n",
        "  if(angle[i]==(15)):\n",
        "    angle[i] = 4\n",
        "  if(angle[i]==(30)):\n",
        "    angle[i] = 5\n",
        "  if(angle[i]==(45)):\n",
        "    angle[i] = 6"
      ],
      "execution_count": 9,
      "outputs": [
        {
          "output_type": "stream",
          "name": "stdout",
          "text": [
            "Unique angle class: [  0 -15 -30 -45  15  30  45]\n"
          ]
        }
      ]
    },
    {
      "cell_type": "code",
      "metadata": {
        "id": "B6cBYZZqZza2",
        "colab": {
          "base_uri": "https://localhost:8080/"
        },
        "outputId": "9e7d806d-2c35-4653-c5be-74035f287f59"
      },
      "source": [
        "angle"
      ],
      "execution_count": 10,
      "outputs": [
        {
          "output_type": "execute_result",
          "data": {
            "text/plain": [
              "array([0, 0, 0, 0, 0, 0, 0, 0, 0, 0, 0, 0, 0, 0, 0, 0, 0, 0, 0, 0, 0, 0,\n",
              "       0, 1, 1, 2, 2, 3, 3, 3, 3, 2, 1, 0, 0, 0, 0, 0, 0, 0, 0, 0, 0, 0,\n",
              "       0, 0, 0, 0, 0, 0, 0, 0, 0, 0, 0, 0, 0, 0, 0, 0, 0, 0, 0, 0, 0, 0,\n",
              "       0, 0, 0, 0, 0, 0, 0, 0, 0, 0, 0, 0, 0, 0, 0, 0, 0, 0, 0, 0, 0, 0,\n",
              "       0, 0, 0, 0, 0, 0, 0, 0, 0, 0, 0, 0, 0, 0, 0, 0, 0, 0, 0, 0, 0, 0,\n",
              "       0, 0, 0, 0, 0, 0, 0, 0, 0, 0, 0, 0, 0, 0, 0, 0, 0, 0, 0, 0, 0, 0,\n",
              "       0, 0, 0, 0, 0, 0, 0, 0, 0, 0, 0, 0, 0, 0, 0, 0, 0, 0, 4, 4, 4, 4,\n",
              "       4, 4, 4, 4, 4, 4, 4, 4, 4, 4, 4, 4, 4, 5, 5, 6, 6, 6, 6, 6, 6, 6,\n",
              "       6, 6, 6, 4, 4, 4, 4, 4, 4, 4, 4, 4, 4, 4, 4, 4, 4, 4, 4, 4, 4, 4,\n",
              "       4, 4, 4, 4, 4, 4, 4, 4, 4, 4, 4, 4, 4, 4, 4, 4, 4, 4, 4, 4, 4, 4,\n",
              "       4, 4, 4, 4, 4, 4, 4, 4, 4, 4, 4, 4, 4, 4, 4, 4, 4, 4, 4, 4, 4, 4,\n",
              "       4, 4, 4, 5, 4, 4, 4, 4, 4, 4, 4, 4, 4, 0, 0, 0, 0, 0, 0, 0, 0, 0,\n",
              "       0, 0, 0, 0, 0, 0, 0, 0, 0, 0, 0, 0, 0, 0, 0, 0, 0, 0, 0, 0, 0, 0,\n",
              "       0, 0, 0, 0, 0, 4, 5, 6, 6, 5, 5, 4, 4, 4, 4, 5, 6, 6, 5, 4, 4, 0,\n",
              "       0, 0, 0, 0, 0, 1, 1, 2, 2, 2, 3, 3, 3, 3, 3, 3, 2, 2, 2, 2, 2, 1,\n",
              "       1, 1, 1, 0, 0, 0, 0, 0, 0, 0, 0, 0, 0, 0, 0, 0, 0, 0, 0, 0, 0, 0,\n",
              "       0, 0, 0, 4, 4, 4, 4, 4, 4, 4, 4, 4, 4, 4, 4, 4, 4, 4, 4, 4, 4, 4,\n",
              "       4, 4, 4, 4, 4, 4, 4, 4, 4, 4, 0, 0, 0, 2, 2, 2, 1, 0, 0, 0, 0, 0,\n",
              "       0, 0, 0, 0, 0, 0, 0, 0, 0, 0, 0, 0, 0, 0, 0, 0, 0, 0, 0, 0, 0, 0,\n",
              "       0, 0, 0, 0, 0, 0, 0, 0, 0, 0, 0, 0, 0, 4, 4, 4, 4, 4, 4, 4, 4, 4,\n",
              "       4, 4, 4, 4, 4, 4, 4, 4, 4, 4, 4, 4, 4, 4, 4, 4, 4, 4, 4, 4, 4, 4,\n",
              "       4, 4, 4, 4, 4, 4, 4, 4, 4, 4, 4, 4, 4, 4, 4, 4, 4, 4, 4, 4, 4, 4,\n",
              "       4, 4, 4, 4, 4, 4, 4, 4, 4, 4, 4, 4, 4, 4, 4, 4, 4, 4, 4, 4, 4, 4,\n",
              "       4, 4, 4, 4, 4, 4, 0, 0, 0, 1, 0, 0, 0, 0, 0, 2, 1, 0, 0, 5, 5, 5,\n",
              "       5, 5, 5, 5, 5, 5, 4, 4, 4, 4, 4, 4, 0, 0, 0, 0, 0, 0, 0, 0, 0, 0,\n",
              "       0, 0, 0, 0, 0, 1, 1, 1, 1, 1, 1, 1, 0, 4, 4, 4, 4, 4, 4, 4, 4, 5,\n",
              "       6, 4, 4, 4, 4, 4, 4, 4, 4, 4, 4, 4, 4, 4, 4, 4, 0, 0, 0, 1, 1, 1,\n",
              "       1, 1, 1, 1, 1, 1, 1, 1, 2, 2, 1, 0])"
            ]
          },
          "metadata": {},
          "execution_count": 10
        }
      ]
    },
    {
      "cell_type": "code",
      "metadata": {
        "id": "hbpyH2GHW4S4"
      },
      "source": [
        "# drop fileName\tsubject\timgNum\tlabel\tang\n",
        "dataset = dataset.drop(['fileName', 'subject', 'imgNum', 'ang'], axis = 1)"
      ],
      "execution_count": 11,
      "outputs": []
    },
    {
      "cell_type": "code",
      "metadata": {
        "id": "ljtPaC0fW7vO",
        "colab": {
          "base_uri": "https://localhost:8080/",
          "height": 206
        },
        "outputId": "12aee487-ed30-4696-9079-84629061c768"
      },
      "source": [
        "dataset.head(5)"
      ],
      "execution_count": 12,
      "outputs": [
        {
          "output_type": "execute_result",
          "data": {
            "text/html": [
              "<div>\n",
              "<style scoped>\n",
              "    .dataframe tbody tr th:only-of-type {\n",
              "        vertical-align: middle;\n",
              "    }\n",
              "\n",
              "    .dataframe tbody tr th {\n",
              "        vertical-align: top;\n",
              "    }\n",
              "\n",
              "    .dataframe thead th {\n",
              "        text-align: right;\n",
              "    }\n",
              "</style>\n",
              "<table border=\"1\" class=\"dataframe\">\n",
              "  <thead>\n",
              "    <tr style=\"text-align: right;\">\n",
              "      <th></th>\n",
              "      <th>label</th>\n",
              "      <th>xF</th>\n",
              "      <th>yF</th>\n",
              "      <th>wF</th>\n",
              "      <th>hF</th>\n",
              "      <th>xRE</th>\n",
              "      <th>yRE</th>\n",
              "      <th>xLE</th>\n",
              "      <th>yLE</th>\n",
              "      <th>xN</th>\n",
              "      <th>yN</th>\n",
              "      <th>xRM</th>\n",
              "      <th>yRM</th>\n",
              "      <th>xLM</th>\n",
              "      <th>yLM</th>\n",
              "    </tr>\n",
              "  </thead>\n",
              "  <tbody>\n",
              "    <tr>\n",
              "      <th>0</th>\n",
              "      <td>2</td>\n",
              "      <td>292</td>\n",
              "      <td>209</td>\n",
              "      <td>100</td>\n",
              "      <td>112</td>\n",
              "      <td>323</td>\n",
              "      <td>232</td>\n",
              "      <td>367</td>\n",
              "      <td>231</td>\n",
              "      <td>353</td>\n",
              "      <td>254</td>\n",
              "      <td>332</td>\n",
              "      <td>278</td>\n",
              "      <td>361</td>\n",
              "      <td>278</td>\n",
              "    </tr>\n",
              "    <tr>\n",
              "      <th>1</th>\n",
              "      <td>2</td>\n",
              "      <td>286</td>\n",
              "      <td>200</td>\n",
              "      <td>109</td>\n",
              "      <td>128</td>\n",
              "      <td>324</td>\n",
              "      <td>235</td>\n",
              "      <td>366</td>\n",
              "      <td>235</td>\n",
              "      <td>353</td>\n",
              "      <td>258</td>\n",
              "      <td>333</td>\n",
              "      <td>281</td>\n",
              "      <td>361</td>\n",
              "      <td>281</td>\n",
              "    </tr>\n",
              "    <tr>\n",
              "      <th>2</th>\n",
              "      <td>2</td>\n",
              "      <td>290</td>\n",
              "      <td>204</td>\n",
              "      <td>105</td>\n",
              "      <td>121</td>\n",
              "      <td>325</td>\n",
              "      <td>240</td>\n",
              "      <td>367</td>\n",
              "      <td>239</td>\n",
              "      <td>351</td>\n",
              "      <td>260</td>\n",
              "      <td>334</td>\n",
              "      <td>282</td>\n",
              "      <td>362</td>\n",
              "      <td>282</td>\n",
              "    </tr>\n",
              "    <tr>\n",
              "      <th>3</th>\n",
              "      <td>2</td>\n",
              "      <td>287</td>\n",
              "      <td>202</td>\n",
              "      <td>112</td>\n",
              "      <td>118</td>\n",
              "      <td>325</td>\n",
              "      <td>230</td>\n",
              "      <td>369</td>\n",
              "      <td>230</td>\n",
              "      <td>353</td>\n",
              "      <td>253</td>\n",
              "      <td>335</td>\n",
              "      <td>274</td>\n",
              "      <td>362</td>\n",
              "      <td>275</td>\n",
              "    </tr>\n",
              "    <tr>\n",
              "      <th>4</th>\n",
              "      <td>2</td>\n",
              "      <td>290</td>\n",
              "      <td>193</td>\n",
              "      <td>104</td>\n",
              "      <td>119</td>\n",
              "      <td>325</td>\n",
              "      <td>224</td>\n",
              "      <td>366</td>\n",
              "      <td>225</td>\n",
              "      <td>353</td>\n",
              "      <td>244</td>\n",
              "      <td>333</td>\n",
              "      <td>268</td>\n",
              "      <td>363</td>\n",
              "      <td>268</td>\n",
              "    </tr>\n",
              "  </tbody>\n",
              "</table>\n",
              "</div>"
            ],
            "text/plain": [
              "   label   xF   yF   wF   hF  xRE  yRE  xLE  yLE   xN   yN  xRM  yRM  xLM  yLM\n",
              "0      2  292  209  100  112  323  232  367  231  353  254  332  278  361  278\n",
              "1      2  286  200  109  128  324  235  366  235  353  258  333  281  361  281\n",
              "2      2  290  204  105  121  325  240  367  239  351  260  334  282  362  282\n",
              "3      2  287  202  112  118  325  230  369  230  353  253  335  274  362  275\n",
              "4      2  290  193  104  119  325  224  366  225  353  244  333  268  363  268"
            ]
          },
          "metadata": {},
          "execution_count": 12
        }
      ]
    },
    {
      "cell_type": "code",
      "metadata": {
        "id": "-6i7LgkcXAZA"
      },
      "source": [
        "y = np.array(dataset['label'])\n",
        "# drop the label colume\n",
        "dataset = dataset.drop(['label'], axis = 1)\n",
        "x = np.array(dataset)"
      ],
      "execution_count": 13,
      "outputs": []
    },
    {
      "cell_type": "code",
      "metadata": {
        "id": "SEfvqakTgaOc"
      },
      "source": [
        "# min max scaling the dataset\n",
        "scaler = MinMaxScaler()\n",
        "scaler.fit(x)\n",
        "x = scaler.transform(x)"
      ],
      "execution_count": 14,
      "outputs": []
    },
    {
      "cell_type": "code",
      "metadata": {
        "id": "fx2lQLE5Y4qU",
        "colab": {
          "base_uri": "https://localhost:8080/"
        },
        "outputId": "6d4b495d-1edf-4120-eb16-0063980ddcb8"
      },
      "source": [
        "x.shape"
      ],
      "execution_count": 15,
      "outputs": [
        {
          "output_type": "execute_result",
          "data": {
            "text/plain": [
              "(606, 14)"
            ]
          },
          "metadata": {},
          "execution_count": 15
        }
      ]
    },
    {
      "cell_type": "code",
      "metadata": {
        "id": "7KDga4ViY5qx",
        "colab": {
          "base_uri": "https://localhost:8080/"
        },
        "outputId": "2720da0b-705c-4bbb-b099-f79ef03116bb"
      },
      "source": [
        "y.shape"
      ],
      "execution_count": 16,
      "outputs": [
        {
          "output_type": "execute_result",
          "data": {
            "text/plain": [
              "(606,)"
            ]
          },
          "metadata": {},
          "execution_count": 16
        }
      ]
    },
    {
      "cell_type": "markdown",
      "metadata": {
        "id": "JkmdHwxMU8ef"
      },
      "source": [
        "# 5 fold"
      ]
    },
    {
      "cell_type": "code",
      "metadata": {
        "id": "oR3rSYunYfcF"
      },
      "source": [
        "# shuffel the dataset\n",
        "x, y = shuffle(x, y, random_state=100)"
      ],
      "execution_count": 17,
      "outputs": []
    },
    {
      "cell_type": "code",
      "metadata": {
        "id": "XWxrzkreg64O"
      },
      "source": [
        "import numpy as np\n",
        "from sklearn.model_selection import KFold\n",
        "def fold(features,y_actual):\n",
        "  kf = KFold(n_splits=5,random_state=1000, shuffle=True)\n",
        "  kf.get_n_splits(features)\n",
        "  print(kf)\n",
        "  all_x_train = []\n",
        "  all_x_test = []\n",
        "  all_y_train = []\n",
        "  all_y_test = []\n",
        "  for train_index, test_index in kf.split(features):\n",
        "    X_train, X_test = features[train_index], features[test_index]\n",
        "    y_train, y_test = y_actual[train_index], y_actual[test_index]\n",
        "    all_x_train.append(X_train)\n",
        "    all_x_test.append(X_test)\n",
        "    all_y_train.append(y_train)\n",
        "    all_y_test.append(y_test)\n",
        "  all_x_train, all_x_test, all_y_train, all_y_test  = np.array(all_x_train), np.array(all_x_test), np.array(all_y_train), np.array(all_y_test)\n",
        "  return all_x_train, all_x_test, all_y_train, all_y_test"
      ],
      "execution_count": 18,
      "outputs": []
    },
    {
      "cell_type": "code",
      "metadata": {
        "id": "WoimdvJqZYhA",
        "colab": {
          "base_uri": "https://localhost:8080/"
        },
        "outputId": "c8860f18-1753-45df-a132-7f7891579948"
      },
      "source": [
        "all_x_train, all_x_test, all_y_train, all_y_test = fold(x, y)"
      ],
      "execution_count": 19,
      "outputs": [
        {
          "output_type": "stream",
          "name": "stdout",
          "text": [
            "KFold(n_splits=5, random_state=1000, shuffle=True)\n"
          ]
        }
      ]
    },
    {
      "cell_type": "markdown",
      "metadata": {
        "id": "h7gfszpMXCed"
      },
      "source": [
        "# Classification "
      ]
    },
    {
      "cell_type": "code",
      "metadata": {
        "id": "GEljlPHbxVjG"
      },
      "source": [
        "X_train, X_validation, y_train, y_validation = train_test_split(all_x_train[0], all_y_train[0], test_size=0.20, random_state=42)"
      ],
      "execution_count": 20,
      "outputs": []
    },
    {
      "cell_type": "markdown",
      "metadata": {
        "id": "nZVpO_YmU-I_"
      },
      "source": [
        "## Logistic Regression\n",
        "\n",
        "\n"
      ]
    },
    {
      "cell_type": "code",
      "metadata": {
        "id": "O_GY3NJlxzRV"
      },
      "source": [
        "# hyperparameter tuning for logistic accuracy\n",
        "def logistic_hyperparameter_tuning(epoch, alpha, roh, n_iter_no_change, X_train, X_validation, y_train, y_validation):\n",
        "  val_acc = []\n",
        "  train_acc = []\n",
        "  for i in range(0, epoch.shape[0]):\n",
        "    # we are taking logloss function for error calculation\n",
        "    logistic_reg_classifier = OneVsRestClassifier(SGDClassifier(loss = 'log', alpha = alpha[i], fit_intercept = True, max_iter = epoch[i], tol = roh[i], n_iter_no_change = n_iter_no_change[i])).fit(X_train, y_train)\n",
        "    predicted = logistic_reg_classifier.predict(X_validation)\n",
        "    val_acc.append(accuracy_score(y_validation, predicted)*100)\n",
        "    train_pred = logistic_reg_classifier.predict(X_train)\n",
        "    train_acc.append(accuracy_score(y_train, train_pred)*100)\n",
        "  # Get the maximum accuracy on validation\n",
        "  print(\"Train Accuracy: \", train_acc)\n",
        "  print(\"Validation Accuracy\", val_acc)\n",
        "  max_value = max(val_acc)\n",
        "  max_index = val_acc.index(max_value)\n",
        "  best_hyperparameter = (epoch[max_index], alpha[max_index], roh[max_index], n_iter_no_change[max_index])\n",
        "  print(\"Best Hyperparameter:\")\n",
        "  print(\"Epoch = \", epoch[max_index])\n",
        "  print(\"Alpha = \", alpha[max_index])\n",
        "  print(\"Roh = \", roh[max_index])\n",
        "  print(\"n_iter_no_change (Number of iterations with no improvement) = \", n_iter_no_change[max_index])\n",
        "  return best_hyperparameter"
      ],
      "execution_count": 21,
      "outputs": []
    },
    {
      "cell_type": "code",
      "metadata": {
        "colab": {
          "base_uri": "https://localhost:8080/"
        },
        "id": "peBNtkH_x351",
        "outputId": "73f692ca-bf32-40ba-ab7f-2203a36ecea8"
      },
      "source": [
        "epoch = np.array([100, 150, 200, 250, 300, 350, 400, 450, 500, 550])\n",
        "alpha = np.array([0.01, 0.001, 0.0001, 0.00001, 0.125, 0.15, 0.18, 0.2, 0.25, 0.3])\n",
        "roh = np.array([0.00001, 0.00001, 0.000001, 0.0000001, 0.000001, 0.0001, 0.0001, 0.0001, 0.0001, 0.000001])\n",
        "n_iter_no_change = np.array([8, 9, 10, 11, 12, 13, 14, 15, 16, 18])\n",
        "epoch, alpha, roh, n_iter_no_change = logistic_hyperparameter_tuning(epoch, alpha, roh, n_iter_no_change, X_train, X_validation, y_train, y_validation)"
      ],
      "execution_count": 22,
      "outputs": [
        {
          "output_type": "stream",
          "name": "stdout",
          "text": [
            "Train Accuracy:  [90.95607235142118, 91.21447028423772, 92.24806201550388, 95.34883720930233, 90.95607235142118, 90.95607235142118, 90.95607235142118, 90.95607235142118, 90.95607235142118, 90.95607235142118]\n",
            "Validation Accuracy [89.69072164948454, 89.69072164948454, 93.81443298969072, 91.75257731958763, 89.69072164948454, 89.69072164948454, 89.69072164948454, 89.69072164948454, 89.69072164948454, 89.69072164948454]\n",
            "Best Hyperparameter:\n",
            "Epoch =  200\n",
            "Alpha =  0.0001\n",
            "Roh =  1e-06\n",
            "n_iter_no_change (Number of iterations with no improvement) =  10\n"
          ]
        }
      ]
    },
    {
      "cell_type": "code",
      "metadata": {
        "id": "hfMLPNfqZEps",
        "colab": {
          "base_uri": "https://localhost:8080/"
        },
        "outputId": "411b8790-1bce-4a5a-c746-8cc94d9a1dc8"
      },
      "source": [
        "# for testing delete this shell\n",
        "for i in range(0, 5): # for 5 fold\n",
        "  print(\"For fold no:\", i+1)\n",
        "  print(\"-\"*100)\n",
        "  logistic_regression = OneVsRestClassifier(SGDClassifier(loss = 'log', alpha = alpha, fit_intercept = True,\\\n",
        "                                                          max_iter = epoch, tol = roh, n_iter_no_change = n_iter_no_change,\\\n",
        "                                                          verbose= False))\n",
        "  logistic_regression.fit(all_x_train[i], all_y_train[i])\n",
        "  print(\"Accuracy on training data: \" + str(logistic_regression.score(all_x_train[i], all_y_train[i])*100) + \"%\")\n",
        "  predicted = logistic_regression.predict(all_x_test[i])\n",
        "  print(\"Testing Accuracy Score: \" + str(accuracy_score(all_y_test[i], predicted)*100))\n",
        "  print(\"Confusion Matrix : \\n\" + str(confusion_matrix(all_y_test[i], predicted)))\n",
        "  print(\"Classification Report for 6-classes: \")\n",
        "  # out_labels = [1, 2, 3, 4, 5, 6]\n",
        "  print(classification_report(all_y_test[i], predicted, digits=4))\n",
        "  print(\"-\"*100)"
      ],
      "execution_count": 23,
      "outputs": [
        {
          "output_type": "stream",
          "name": "stdout",
          "text": [
            "For fold no: 1\n",
            "----------------------------------------------------------------------------------------------------\n",
            "Accuracy on training data: 93.80165289256198%\n",
            "Testing Accuracy Score: 89.34426229508196\n",
            "Confusion Matrix : \n",
            "[[  2   5   0]\n",
            " [  1 106   0]\n",
            " [  0   7   1]]\n",
            "Classification Report for 6-classes: \n",
            "              precision    recall  f1-score   support\n",
            "\n",
            "           1     0.6667    0.2857    0.4000         7\n",
            "           2     0.8983    0.9907    0.9422       107\n",
            "           3     1.0000    0.1250    0.2222         8\n",
            "\n",
            "    accuracy                         0.8934       122\n",
            "   macro avg     0.8550    0.4671    0.5215       122\n",
            "weighted avg     0.8917    0.8934    0.8639       122\n",
            "\n",
            "----------------------------------------------------------------------------------------------------\n",
            "For fold no: 2\n",
            "----------------------------------------------------------------------------------------------------\n",
            "Accuracy on training data: 92.57731958762886%\n",
            "Testing Accuracy Score: 95.86776859504133\n",
            "Confusion Matrix : \n",
            "[[  2   3   0]\n",
            " [  0 112   0]\n",
            " [  0   2   2]]\n",
            "Classification Report for 6-classes: \n",
            "              precision    recall  f1-score   support\n",
            "\n",
            "           1     1.0000    0.4000    0.5714         5\n",
            "           2     0.9573    1.0000    0.9782       112\n",
            "           3     1.0000    0.5000    0.6667         4\n",
            "\n",
            "    accuracy                         0.9587       121\n",
            "   macro avg     0.9858    0.6333    0.7388       121\n",
            "weighted avg     0.9604    0.9587    0.9511       121\n",
            "\n",
            "----------------------------------------------------------------------------------------------------\n",
            "For fold no: 3\n",
            "----------------------------------------------------------------------------------------------------\n",
            "Accuracy on training data: 94.02061855670102%\n",
            "Testing Accuracy Score: 93.38842975206612\n",
            "Confusion Matrix : \n",
            "[[  3   2   0]\n",
            " [  1 109   0]\n",
            " [  0   5   1]]\n",
            "Classification Report for 6-classes: \n",
            "              precision    recall  f1-score   support\n",
            "\n",
            "           1     0.7500    0.6000    0.6667         5\n",
            "           2     0.9397    0.9909    0.9646       110\n",
            "           3     1.0000    0.1667    0.2857         6\n",
            "\n",
            "    accuracy                         0.9339       121\n",
            "   macro avg     0.8966    0.5859    0.6390       121\n",
            "weighted avg     0.9348    0.9339    0.9186       121\n",
            "\n",
            "----------------------------------------------------------------------------------------------------\n",
            "For fold no: 4\n",
            "----------------------------------------------------------------------------------------------------\n",
            "Accuracy on training data: 92.98969072164948%\n",
            "Testing Accuracy Score: 92.56198347107438\n",
            "Confusion Matrix : \n",
            "[[  2   2   0]\n",
            " [  1 109   0]\n",
            " [  0   6   1]]\n",
            "Classification Report for 6-classes: \n",
            "              precision    recall  f1-score   support\n",
            "\n",
            "           1     0.6667    0.5000    0.5714         4\n",
            "           2     0.9316    0.9909    0.9604       110\n",
            "           3     1.0000    0.1429    0.2500         7\n",
            "\n",
            "    accuracy                         0.9256       121\n",
            "   macro avg     0.8661    0.5446    0.5939       121\n",
            "weighted avg     0.9268    0.9256    0.9064       121\n",
            "\n",
            "----------------------------------------------------------------------------------------------------\n",
            "For fold no: 5\n",
            "----------------------------------------------------------------------------------------------------\n",
            "Accuracy on training data: 92.78350515463917%\n",
            "Testing Accuracy Score: 90.9090909090909\n",
            "Confusion Matrix : \n",
            "[[  2   4   0]\n",
            " [  0 107   0]\n",
            " [  0   7   1]]\n",
            "Classification Report for 6-classes: \n",
            "              precision    recall  f1-score   support\n",
            "\n",
            "           1     1.0000    0.3333    0.5000         6\n",
            "           2     0.9068    1.0000    0.9511       107\n",
            "           3     1.0000    0.1250    0.2222         8\n",
            "\n",
            "    accuracy                         0.9091       121\n",
            "   macro avg     0.9689    0.4861    0.5578       121\n",
            "weighted avg     0.9176    0.9091    0.8806       121\n",
            "\n",
            "----------------------------------------------------------------------------------------------------\n"
          ]
        }
      ]
    },
    {
      "cell_type": "code",
      "metadata": {
        "colab": {
          "base_uri": "https://localhost:8080/"
        },
        "id": "ic8MWiLuyZbo",
        "outputId": "f056b394-45f4-47b3-9050-643d7fef5091"
      },
      "source": [
        "logistic_regression = OneVsRestClassifier(SGDClassifier(loss = 'log', alpha = alpha, fit_intercept = True, max_iter = epoch, tol = roh, n_iter_no_change = n_iter_no_change))\n",
        "logistic_regression.fit(X_train, y_train)\n",
        "print(\"Accuracy on training data: \" + str(logistic_regression.score(X_train, y_train)*100) + \"%\")\n",
        "print(\"-\"*100)\n",
        "test_predicted = logistic_regression.predict(all_x_test[0])\n",
        "print(\"Testing Accuracy Score: \" + str(accuracy_score(all_y_test[0], test_predicted)*100))\n",
        "print(\"Testing Confusion Matrix : \\n\" + str(confusion_matrix(all_y_test[0], test_predicted)))\n",
        "print(\"-\"*100)\n",
        "valid_predicted = logistic_regression.predict(X_validation)\n",
        "print(\"Validation Accuracy Score: \" + str(accuracy_score(y_validation, valid_predicted)*100))\n",
        "print(\"Validation Confusion Matrix : \\n\" + str(confusion_matrix(y_validation, valid_predicted)))\n",
        "print(\"-\"*100)"
      ],
      "execution_count": 24,
      "outputs": [
        {
          "output_type": "stream",
          "name": "stdout",
          "text": [
            "Accuracy on training data: 95.09043927648578%\n",
            "----------------------------------------------------------------------------------------------------\n",
            "Testing Accuracy Score: 94.26229508196722\n",
            "Testing Confusion Matrix : \n",
            "[[  1   6   0]\n",
            " [  0 107   0]\n",
            " [  0   1   7]]\n",
            "----------------------------------------------------------------------------------------------------\n",
            "Validation Accuracy Score: 93.81443298969072\n",
            "Validation Confusion Matrix : \n",
            "[[ 2  6  0]\n",
            " [ 0 87  0]\n",
            " [ 0  0  2]]\n",
            "----------------------------------------------------------------------------------------------------\n"
          ]
        }
      ]
    },
    {
      "cell_type": "markdown",
      "metadata": {
        "id": "QNDsaYHYVHIO"
      },
      "source": [
        "# Single Layer Perceptron"
      ]
    },
    {
      "cell_type": "code",
      "metadata": {
        "id": "DbnAgZm8dm-7"
      },
      "source": [
        "# it's slp\n",
        "class SingleLayerPerceptron():\n",
        "    def predict(self, X):\n",
        "        \"\"\"\n",
        "        X: 2D array of shape (no of patterns, no of features)\n",
        "        \"\"\"\n",
        "        return self.predict_(self.add_bias(X))\n",
        "    \n",
        "    def predict_(self, X):\n",
        "        \"\"\"\n",
        "        X: 2D array of shape (no of patterns, no of features)\n",
        "        \"\"\"\n",
        "        pre_vals = np.dot(X, self.weights.T).reshape(-1,len(self.classes))\n",
        "        return self.softmax(pre_vals)\n",
        "    \n",
        "    def softmax(self, z):\n",
        "        \"\"\"\n",
        "        z: 1D array of shape (no of patterns, )\n",
        "        \"\"\"\n",
        "        return np.exp(z) / np.sum(np.exp(z), axis=1).reshape(-1,1)\n",
        "\n",
        "    def predict_classes(self, X):\n",
        "        \"\"\"\n",
        "        X: 2D array of shape (no of patterns, no of features)\n",
        "        \"\"\"\n",
        "        self.probs_ = self.predict(X)\n",
        "        return np.vectorize(lambda c: self.classes[c])(np.argmax(self.probs_, axis=1))\n",
        "  \n",
        "    def add_bias(self, X):\n",
        "        \"\"\"\n",
        "        X: 2D array of shape (no of patterns, no of features)\n",
        "        \"\"\"\n",
        "        return np.insert(X, 0, 1, axis=1)\n",
        "\n",
        "    def one_hot(self, y):\n",
        "        \"\"\"\n",
        "        y: 1D array of shape (no of patterns, )\n",
        "        \"\"\"\n",
        "        return np.eye(len(self.classes))[np.vectorize(lambda c: self.class_labels[c])(y).reshape(-1)]\n",
        "    \n",
        "    def score(self, X, y):\n",
        "        \"\"\"\n",
        "        X: 2D array of shape (no of patterns, no of features)\n",
        "        y: 1D array of shape (no of patterns, )\n",
        "        \"\"\"\n",
        "        return np.mean(self.predict_classes(X) == y)\n",
        "    \n",
        "    def evaluate_(self, X, y):\n",
        "        \"\"\"\n",
        "        X: 2D array of shape (no of patterns, no of features)\n",
        "        y: 1D array of shape (no of patterns, )\n",
        "        \"\"\"\n",
        "        return np.mean(np.argmax(self.predict_(X), axis=1) == np.argmax(y, axis=1))\n",
        "\n",
        "    def logloss(self, y, probs):\n",
        "        \"\"\"\n",
        "        y:      1D array of shape (no of patterns, )\n",
        "        probs:  1D array of shape (no of patterns, )\n",
        "        \"\"\"\n",
        "        return np.mean(-y*np.log(probs) - (1-y)*np.log(1-probs))\n",
        "\n",
        "    def cross_entropy(self, y, probs):\n",
        "        \"\"\"\n",
        "        y:      1D array of shape (no of patterns, )\n",
        "        probs:  1D array of shape (no of patterns, )\n",
        "        \"\"\"\n",
        "        return -1 * np.mean(y * np.log(probs))\n",
        "\n",
        "    def mse(self, y, probs):\n",
        "        \"\"\"\n",
        "        y:      1D array of shape (no of patterns, )\n",
        "        probs:  1D array of shape (no of patterns, )\n",
        "        \"\"\"\n",
        "        return (((y - probs)**2).mean())/2\n",
        "        \n",
        "    def fit(self, X, y, epoch, roh, lr):\n",
        "        \"\"\"\n",
        "        X: 2D array of shape (no of patterns, no of features)\n",
        "        y: 1D array of shape (no of patterns, )\n",
        "        epoch:  int, convergence criteria (hyperparameter)\n",
        "        roh:    float, convergence criteria (hyperparameter)\n",
        "        lr:     float, learning rate (hyperparameter)\n",
        "        \"\"\"\n",
        "        self.epoch = epoch\n",
        "        self.roh = roh\n",
        "        self.lr = lr \n",
        "        self.classes = np.unique(y)\n",
        "        self.class_labels = {c:i for i,c in enumerate(self.classes)}\n",
        "        X = self.add_bias(X)\n",
        "        y = self.one_hot(y)\n",
        "        self.loss = []\n",
        "        self.weights = np.zeros(shape=(len(self.classes),X.shape[1]))*0.1\n",
        "        self.fit_data(X, y)\n",
        "        return self\n",
        " \n",
        "    def fit_data(self, X, y):\n",
        "        \"\"\"\n",
        "        X: 2D array of shape (no of patterns, no of features)\n",
        "        y: 1D array of shape (no of patterns, )\n",
        "        \"\"\"\n",
        "        itr = 0\n",
        "        while (not self.epoch or itr < self.epoch):\n",
        "            self.loss.append(self.mse(y, self.predict_(X)))\n",
        "            # put the thershold function on the predicted value i.e. here self.predict_(X)\n",
        "            temp = self.predict_(X)\n",
        "            # threshold activation on the predicted value of all patterns\n",
        "            for k in range(0, temp.shape[0]):\n",
        "              for j in range(0, temp.shape[1]):\n",
        "                if(temp[k][j]>=0.5):\n",
        "                  temp[k][j] = 1\n",
        "                else:\n",
        "                  temp[k][j] = 0\n",
        "            #print(\"Iteration: \", itr+1, \" Mse: \", self.mse(y, self.predict_(X)))\n",
        "            error = y - temp\n",
        "            update = (self.lr * np.dot(error.T, X))\n",
        "            self.weights += update\n",
        "            if np.abs(update).max() < self.roh:\n",
        "              print(\"Converged through roh criteria.\")\n",
        "              break\n",
        "            itr +=1\n",
        "        if(itr==self.epoch):\n",
        "          print(\"Converged through maximum of Iteration:\")"
      ],
      "execution_count": 25,
      "outputs": []
    },
    {
      "cell_type": "code",
      "metadata": {
        "id": "IHRm2tSRyr7r"
      },
      "source": [
        "def slp_hyperparameter_tuning(epoch, alpha, roh, X_train, X_validation, y_train, y_validation):\n",
        "  val_acc = []\n",
        "  train_acc = []\n",
        "  for i in range(0, epoch.shape[0]):\n",
        "    # we are taking logloss function for error calculation\n",
        "    slp_classifier = SingleLayerPerceptron().fit(X_train, y_train, epoch = epoch[i], roh = roh[i], lr = alpha[i])\n",
        "    predicted = slp_classifier.predict_classes(X_validation)\n",
        "    val_acc.append(accuracy_score(y_validation, predicted)*100)\n",
        "    train_predicted = slp_classifier.predict_classes(X_train)\n",
        "    train_acc.append(accuracy_score(y_train, train_predicted)*100)\n",
        "  # Get the maximum accuracy on validation\n",
        "  print(\"Training Accuracy: \", train_acc)\n",
        "  print(\"Validation Accuracy: \", val_acc)\n",
        "  max_value = max(val_acc)\n",
        "  max_index = val_acc.index(max_value)\n",
        "  best_hyperparameter = (epoch[max_index], alpha[max_index], roh[max_index])\n",
        "  print(\"Best Hyperparameter:\")\n",
        "  print(\"Epoch = \", epoch[max_index])\n",
        "  print(\"Alpha = \", alpha[max_index])\n",
        "  print(\"Roh = \", roh[max_index])\n",
        "  return best_hyperparameter"
      ],
      "execution_count": 26,
      "outputs": []
    },
    {
      "cell_type": "code",
      "metadata": {
        "colab": {
          "base_uri": "https://localhost:8080/"
        },
        "id": "BeiWD0KgyvIT",
        "outputId": "7b4fb493-99dd-446a-e792-2512d79f4517"
      },
      "source": [
        "epoch = np.array([100, 150, 200, 250, 300, 350, 400, 450, 500, 550])\n",
        "alpha = np.array([0.0001, 0.0001, 0.00001, 0.00001, 0.00001, 0.00001, 0.00001, 0.00001, 0.0001, 0.0001])\n",
        "roh = np.array([0.00001, 0.00001, 0.000001, 0.0000001, 0.000001, 0.0001, 0.0001, 0.0001, 0.0001, 0.000001])\n",
        "epoch, alpha, roh = slp_hyperparameter_tuning(epoch, alpha, roh, X_train, X_validation, y_train, y_validation)"
      ],
      "execution_count": 27,
      "outputs": [
        {
          "output_type": "stream",
          "name": "stdout",
          "text": [
            "Converged through maximum of Iteration:\n",
            "Converged through maximum of Iteration:\n",
            "Converged through maximum of Iteration:\n",
            "Converged through maximum of Iteration:\n",
            "Converged through maximum of Iteration:\n",
            "Converged through maximum of Iteration:\n",
            "Converged through maximum of Iteration:\n",
            "Converged through maximum of Iteration:\n",
            "Converged through maximum of Iteration:\n",
            "Converged through maximum of Iteration:\n",
            "Training Accuracy:  [90.95607235142118, 90.95607235142118, 90.95607235142118, 90.95607235142118, 90.95607235142118, 90.95607235142118, 90.95607235142118, 90.95607235142118, 93.02325581395348, 92.76485788113695]\n",
            "Validation Accuracy:  [89.69072164948454, 89.69072164948454, 89.69072164948454, 89.69072164948454, 89.69072164948454, 89.69072164948454, 89.69072164948454, 89.69072164948454, 90.72164948453609, 91.75257731958763]\n",
            "Best Hyperparameter:\n",
            "Epoch =  550\n",
            "Alpha =  0.0001\n",
            "Roh =  1e-06\n"
          ]
        }
      ]
    },
    {
      "cell_type": "code",
      "metadata": {
        "id": "g-Eg8MToVObW",
        "colab": {
          "base_uri": "https://localhost:8080/"
        },
        "outputId": "84daa076-25ad-4643-fda6-a8a101875ab3"
      },
      "source": [
        "for i in range(0, 5): # for 5 fold\n",
        "  print(\"For fold no:\", i+1)\n",
        "  print(\"-\"*100)\n",
        "  slp = SingleLayerPerceptron().fit(all_x_train[i], all_y_train[i], epoch = epoch, roh = roh, lr = alpha)\n",
        "  print(\"Accuracy on training data: \" + str(slp.score(all_x_train[i], all_y_train[i])*100) + \"%\")\n",
        "  predicted = slp.predict_classes(all_x_test[i])\n",
        "  print(\"Testing Accuracy Score: \" + str(accuracy_score(all_y_test[i], predicted)*100))\n",
        "  print('Confusion Matrix : \\n' + str(confusion_matrix(all_y_test[i], predicted)))\n",
        "  # out_labels = [1, 2, 3, 4, 5, 6]\n",
        "  print(classification_report(all_y_test[i], predicted,  digits = 6))\n",
        "  print(\"-\"*100)"
      ],
      "execution_count": 28,
      "outputs": [
        {
          "output_type": "stream",
          "name": "stdout",
          "text": [
            "For fold no: 1\n",
            "----------------------------------------------------------------------------------------------------\n",
            "Converged through maximum of Iteration:\n",
            "Accuracy on training data: 92.14876033057851%\n",
            "Testing Accuracy Score: 90.98360655737704\n",
            "Confusion Matrix : \n",
            "[[  0   7   0]\n",
            " [  0 107   0]\n",
            " [  0   4   4]]\n",
            "              precision    recall  f1-score   support\n",
            "\n",
            "           1   0.000000  0.000000  0.000000         7\n",
            "           2   0.906780  1.000000  0.951111       107\n",
            "           3   1.000000  0.500000  0.666667         8\n",
            "\n",
            "    accuracy                       0.909836       122\n",
            "   macro avg   0.635593  0.500000  0.539259       122\n",
            "weighted avg   0.860864  0.909836  0.877887       122\n",
            "\n",
            "----------------------------------------------------------------------------------------------------\n",
            "For fold no: 2\n",
            "----------------------------------------------------------------------------------------------------\n",
            "Converged through maximum of Iteration:\n",
            "Accuracy on training data: 91.54639175257732%\n",
            "Testing Accuracy Score: 94.21487603305785\n",
            "Confusion Matrix : \n",
            "[[  0   5   0]\n",
            " [  0 111   1]\n",
            " [  0   1   3]]\n",
            "              precision    recall  f1-score   support\n",
            "\n",
            "           1   0.000000  0.000000  0.000000         5\n",
            "           2   0.948718  0.991071  0.969432       112\n",
            "           3   0.750000  0.750000  0.750000         4\n",
            "\n",
            "    accuracy                       0.942149       121\n",
            "   macro avg   0.566239  0.580357  0.573144       121\n",
            "weighted avg   0.902946  0.942149  0.922119       121\n",
            "\n",
            "----------------------------------------------------------------------------------------------------\n",
            "For fold no: 3\n",
            "----------------------------------------------------------------------------------------------------\n",
            "Converged through maximum of Iteration:\n",
            "Accuracy on training data: 91.54639175257732%\n",
            "Testing Accuracy Score: 93.38842975206612\n",
            "Confusion Matrix : \n",
            "[[  0   5   0]\n",
            " [  0 109   1]\n",
            " [  0   2   4]]\n",
            "              precision    recall  f1-score   support\n",
            "\n",
            "           1   0.000000  0.000000  0.000000         5\n",
            "           2   0.939655  0.990909  0.964602       110\n",
            "           3   0.800000  0.666667  0.727273         6\n",
            "\n",
            "    accuracy                       0.933884       121\n",
            "   macro avg   0.579885  0.552525  0.563958       121\n",
            "weighted avg   0.893901  0.933884  0.912974       121\n",
            "\n",
            "----------------------------------------------------------------------------------------------------\n",
            "For fold no: 4\n",
            "----------------------------------------------------------------------------------------------------\n",
            "Converged through maximum of Iteration:\n",
            "Accuracy on training data: 91.95876288659794%\n",
            "Testing Accuracy Score: 90.9090909090909\n",
            "Confusion Matrix : \n",
            "[[  0   4   0]\n",
            " [  0 107   3]\n",
            " [  0   4   3]]\n",
            "              precision    recall  f1-score   support\n",
            "\n",
            "           1   0.000000  0.000000  0.000000         4\n",
            "           2   0.930435  0.972727  0.951111       110\n",
            "           3   0.500000  0.428571  0.461538         7\n",
            "\n",
            "    accuracy                       0.909091       121\n",
            "   macro avg   0.476812  0.467100  0.470883       121\n",
            "weighted avg   0.874775  0.909091  0.891347       121\n",
            "\n",
            "----------------------------------------------------------------------------------------------------\n",
            "For fold no: 5\n",
            "----------------------------------------------------------------------------------------------------\n",
            "Converged through maximum of Iteration:\n",
            "Accuracy on training data: 92.78350515463917%\n",
            "Testing Accuracy Score: 88.42975206611571\n",
            "Confusion Matrix : \n",
            "[[  0   6   0]\n",
            " [  0 104   3]\n",
            " [  0   5   3]]\n",
            "              precision    recall  f1-score   support\n",
            "\n",
            "           1   0.000000  0.000000  0.000000         6\n",
            "           2   0.904348  0.971963  0.936937       107\n",
            "           3   0.500000  0.375000  0.428571         8\n",
            "\n",
            "    accuracy                       0.884298       121\n",
            "   macro avg   0.468116  0.448988  0.455169       121\n",
            "weighted avg   0.832770  0.884298  0.856866       121\n",
            "\n",
            "----------------------------------------------------------------------------------------------------\n"
          ]
        }
      ]
    },
    {
      "cell_type": "code",
      "metadata": {
        "id": "ATDOZ2YqWMgD"
      },
      "source": [
        "# Overfit Detection\n",
        "import numpy as np\n",
        "import matplotlib.pyplot as plt\n",
        "# it's slp\n",
        "class Overfit_SingleLayerPerceptron():\n",
        "    def predict(self, X):\n",
        "        \"\"\"\n",
        "        X: 2D array of shape (no of patterns, no of features)\n",
        "        \"\"\"\n",
        "        return self.predict_(self.add_bias(X))\n",
        "    \n",
        "    def predict_(self, X):\n",
        "        \"\"\"\n",
        "        X: 2D array of shape (no of patterns, no of features)\n",
        "        \"\"\"\n",
        "        pre_vals = np.dot(X, self.weights.T).reshape(-1, len(np.unique(y)))\n",
        "        return self.softmax(pre_vals)\n",
        "    \n",
        "    def softmax(self, z):\n",
        "        \"\"\"\n",
        "        z: 1D array of shape (no of patterns, )\n",
        "        \"\"\"\n",
        "        return np.exp(z) / np.sum(np.exp(z), axis=1).reshape(-1,1)\n",
        "\n",
        "    def predict_classes(self, X):\n",
        "        \"\"\"\n",
        "        X: 2D array of shape (no of patterns, no of features)\n",
        "        \"\"\"\n",
        "        self.probs_ = self.predict(X)\n",
        "        return np.vectorize(lambda c: self.classes[c])(np.argmax(self.probs_, axis=1))\n",
        "  \n",
        "    def add_bias(self, X):\n",
        "        \"\"\"\n",
        "        X: 2D array of shape (no of patterns, no of features)\n",
        "        \"\"\"\n",
        "        return np.insert(X, 0, 1, axis=1)\n",
        "\n",
        "    def one_hot(self, y):\n",
        "        \"\"\"\n",
        "        y: 1D array of shape (no of patterns, )\n",
        "        \"\"\"\n",
        "        return np.eye(len(self.classes))[np.vectorize(lambda c: self.class_labels[c])(y).reshape(-1)]\n",
        "    \n",
        "    def score(self, X, y):\n",
        "        \"\"\"\n",
        "        X: 2D array of shape (no of patterns, no of features)\n",
        "        y: 1D array of shape (no of patterns, )\n",
        "        \"\"\"\n",
        "        return np.mean(self.predict_classes(X) == y)\n",
        "    \n",
        "    def evaluate_(self, X, y):\n",
        "        \"\"\"\n",
        "        X: 2D array of shape (no of patterns, no of features)\n",
        "        y: 1D array of shape (no of patterns, )\n",
        "        \"\"\"\n",
        "        return np.mean(np.argmax(self.predict_(X), axis=1) == np.argmax(y, axis=1))\n",
        "\n",
        "    def logloss(self, y, probs):\n",
        "        \"\"\"\n",
        "        y: 1D array of shape (no of patterns, )\n",
        "        probs: 1D array of shape (no of patterns, )\n",
        "        \"\"\"\n",
        "        return np.mean(-y*np.log(probs) - (1-y)*np.log(1-probs))\n",
        "\n",
        "    def cross_entropy(self, y, probs):\n",
        "        \"\"\"\n",
        "        y: 1D array of shape (no of patterns, )\n",
        "        probs: 1D array of shape (no of patterns, )\n",
        "        \"\"\"\n",
        "        return -1 * np.mean(y * np.log(probs))\n",
        "\n",
        "    def mse(self, y, probs):\n",
        "        \"\"\"\n",
        "        y: 1D array of shape (no of patterns, )\n",
        "        probs: 1D array of shape (no of patterns, )\n",
        "        \"\"\"\n",
        "        return (((y - probs)**2).mean())/2\n",
        "        \n",
        "    def fit(self, X, y, X_validation, y_validation, epoch, roh, lr):\n",
        "        \"\"\"\n",
        "        X: 2D array of shape (no of patterns in training set, no of features)\n",
        "        y: 1D array of shape (no of patterns in training set, )\n",
        "        X_validation: 2D array of shape (no of patterns in validation set, no of features)\n",
        "        y_validation: 1D array of shape (no of patterns in validation set, )\n",
        "        epoch:  int, convergence criteria (hyperparameter)\n",
        "        roh:    float, convergence criteria (hyperparameter)\n",
        "        lr:     float, learning rate (hyperparameter)\n",
        "        \"\"\"\n",
        "        self.epoch = epoch\n",
        "        self.roh = roh\n",
        "        self.lr = lr \n",
        "        self.classes = np.unique(y)\n",
        "        self.class_labels = {c:i for i,c in enumerate(self.classes)}\n",
        "        X = self.add_bias(X)\n",
        "        X_validation  = self.add_bias(X_validation)\n",
        "        y = self.one_hot(y)\n",
        "        y_valid = self.one_hot(y_validation)\n",
        "        self.loss_train = []\n",
        "        self.loss_valid = []\n",
        "        self.weights = np.zeros(shape=(len(self.classes),X.shape[1]))*0.1\n",
        "        self.fit_data(X, y, X_validation, y_valid)\n",
        "        return self\n",
        " \n",
        "    def fit_data(self, X, y, X_validation, y_valid):\n",
        "        \"\"\"\n",
        "        X: 2D array of shape (no of patterns in training set, no of features)\n",
        "        y: 1D array of shape (no of patterns in training set, )\n",
        "        X_validation: 2D array of shape (no of patterns in validation set, no of features)\n",
        "        y_validation: 1D array of shape (no of patterns in validation set, )\n",
        "        \"\"\"\n",
        "        itr = 0\n",
        "        while (not self.epoch or itr < self.epoch):\n",
        "            self.loss_train.append(self.mse(y, self.predict_(X)))\n",
        "            self.loss_valid.append(self.mse(y_valid, self.predict_(X_validation)))\n",
        "            # put the thershold function on the predicted value i.e. here self.predict_(X)\n",
        "            temp = self.predict_(X)\n",
        "            # threshold activation on the predicted value of all patterns\n",
        "            for k in range(0, temp.shape[0]):\n",
        "              for j in range(0, temp.shape[1]):\n",
        "                if(temp[k][j]>=0.5):\n",
        "                  temp[k][j] = 1\n",
        "                else:\n",
        "                  temp[k][j] = 0\n",
        "            #print(\"Iteration: \", itr+1, \" Mse: \", self.mse(y, self.predict_(X)))\n",
        "            error = y - temp\n",
        "            update = (self.lr * np.dot(error.T, X))\n",
        "            self.weights += update\n",
        "            if np.abs(update).max() < self.roh:\n",
        "              print(\"Converged through roh criteria.\")\n",
        "              break\n",
        "            itr +=1\n",
        "        if(itr==self.epoch):\n",
        "          print(\"Converged through maximum of Iteration:\")"
      ],
      "execution_count": 29,
      "outputs": []
    },
    {
      "cell_type": "code",
      "metadata": {
        "colab": {
          "base_uri": "https://localhost:8080/",
          "height": 569
        },
        "id": "b1zvuTX20Brr",
        "outputId": "08a9ffdb-3eeb-4286-a17f-3d33e5bdb644"
      },
      "source": [
        "oslp = Overfit_SingleLayerPerceptron().fit(X_train, y_train, X_validation, y_validation, epoch, alpha, roh)\n",
        "print(\"Accuracy on training data: \" + str(oslp.score(X_train, y_train)*100) + \"%\")\n",
        "print(\"-\"*100)\n",
        "test_predicted = oslp.predict_classes(all_x_test[0])\n",
        "print(\"Testing Accuracy Score: \" + str(accuracy_score(all_y_test[0], test_predicted)*100))\n",
        "print(\"Testing Confusion Matrix : \\n\" + str(confusion_matrix(all_y_test[0], test_predicted)))\n",
        "print(\"-\"*100)\n",
        "valid_predicted = oslp.predict_classes(X_validation)\n",
        "print(\"Validation Accuracy Score: \" + str(accuracy_score(y_validation, valid_predicted)*100))\n",
        "print(\"Validation Confusion Matrix : \\n\" + str(confusion_matrix(y_validation, valid_predicted)))\n",
        "print(\"-\"*100)\n",
        "loss_train_mse = oslp.loss_train\n",
        "loss_valid_mse = oslp.loss_valid\n",
        "def plotting(x, y_1, y_2, label_1, label_2, t):\n",
        "  plt.plot(x, y_1, label = label_1)\n",
        "  plt.plot(x, y_2, label = label_2)\n",
        "  plt.xlabel(\"Epoch\")\n",
        "  plt.ylabel(\"Training and Validation MSE\")\n",
        "  plt.legend()\n",
        "  plt.title(t)\n",
        "  plt.savefig(\"slp_overfit.pdf\")\n",
        "  plt.show()\n",
        "x = []\n",
        "for i in range(0, len(loss_valid_mse)):\n",
        "  x.append(i)\n",
        "plotting(x, loss_train_mse, loss_valid_mse, \"Training MSE\", \"Validation MSE\", \"Training and Validation MSE\")"
      ],
      "execution_count": 30,
      "outputs": [
        {
          "output_type": "stream",
          "name": "stdout",
          "text": [
            "Converged through maximum of Iteration:\n",
            "Accuracy on training data: 90.95607235142118%\n",
            "----------------------------------------------------------------------------------------------------\n",
            "Testing Accuracy Score: 87.70491803278688\n",
            "Testing Confusion Matrix : \n",
            "[[  0   7   0]\n",
            " [  0 107   0]\n",
            " [  0   8   0]]\n",
            "----------------------------------------------------------------------------------------------------\n",
            "Validation Accuracy Score: 89.69072164948454\n",
            "Validation Confusion Matrix : \n",
            "[[ 0  8  0]\n",
            " [ 0 87  0]\n",
            " [ 0  2  0]]\n",
            "----------------------------------------------------------------------------------------------------\n"
          ]
        },
        {
          "output_type": "display_data",
          "data": {
            "image/png": "[encoded data removed]",
            "text/plain": [
              "<Figure size 432x288 with 1 Axes>"
            ]
          },
          "metadata": {
            "needs_background": "light"
          }
        }
      ]
    },
    {
      "cell_type": "code",
      "metadata": {
        "id": "XuQ4u7T-0uXD"
      },
      "source": [
        ""
      ],
      "execution_count": 30,
      "outputs": []
    },
    {
      "cell_type": "markdown",
      "metadata": {
        "id": "waIgYJW-WJ--"
      },
      "source": [
        "# Sigmoid Neuron"
      ]
    },
    {
      "cell_type": "code",
      "metadata": {
        "id": "A2Uvq9nJWMri"
      },
      "source": [
        "# it's Sigmoid neuron\n",
        "class SigmoidNeuron():\n",
        "    def predict(self, X):\n",
        "        \"\"\"\n",
        "        X: 2D array of shape (no of patterns, no of features)\n",
        "        \"\"\"\n",
        "        return self.predict_(self.add_bias(X))\n",
        "    \n",
        "    def predict_(self, X):\n",
        "        \"\"\"\n",
        "        X: 2D array of shape (no of patterns, no of features)\n",
        "        \"\"\"\n",
        "        pre_vals = np.dot(X, self.weights.T).reshape(-1,len(self.classes))\n",
        "        return self.softmax(pre_vals)\n",
        "    \n",
        "    def softmax(self, z):\n",
        "        \"\"\"\n",
        "        z: 1D array of shape (no of patterns, )\n",
        "        \"\"\"\n",
        "        return np.exp(z) / np.sum(np.exp(z), axis=1).reshape(-1,1)\n",
        "\n",
        "    def predict_classes(self, X):\n",
        "        \"\"\"\n",
        "        X: 2D array of shape (no of patterns, no of features)\n",
        "        \"\"\"\n",
        "        self.probs_ = self.predict(X)\n",
        "        return np.vectorize(lambda c: self.classes[c])(np.argmax(self.probs_, axis=1))\n",
        "  \n",
        "    def add_bias(self, X):\n",
        "        \"\"\"\n",
        "        X: 2D array of shape (no of patterns, no of features)\n",
        "        \"\"\"\n",
        "        return np.insert(X, 0, 1, axis=1)\n",
        "\n",
        "    def one_hot(self, y):\n",
        "        \"\"\"\n",
        "        y: 1D array of shape (no of patterns, )\n",
        "        \"\"\"\n",
        "        return np.eye(len(self.classes))[np.vectorize(lambda c: self.class_labels[c])(y).reshape(-1)]\n",
        "    \n",
        "    def score(self, X, y):\n",
        "        \"\"\"\n",
        "        X: 2D array of shape (no of patterns, no of features)\n",
        "        y: 1D array of shape (no of patterns, )\n",
        "        \"\"\"\n",
        "        return np.mean(self.predict_classes(X) == y)\n",
        "    \n",
        "    def evaluate_(self, X, y):\n",
        "        \"\"\"\n",
        "        X: 2D array of shape (no of patterns, no of features)\n",
        "        y: 1D array of shape (no of patterns, )\n",
        "        \"\"\"\n",
        "        return np.mean(np.argmax(self.predict_(X), axis=1) == np.argmax(y, axis=1))\n",
        "\n",
        "    def logloss(self, y, probs):\n",
        "        \"\"\"\n",
        "        y:      1D array of shape (no of patterns, )\n",
        "        probs:  1D array of shape (no of patterns, )\n",
        "        \"\"\"\n",
        "        return np.mean(-y*np.log(probs) - (1-y)*np.log(1-probs))\n",
        "\n",
        "    def cross_entropy(self, y, probs):\n",
        "        \"\"\"\n",
        "        y:      1D array of shape (no of patterns, )\n",
        "        probs:  1D array of shape (no of patterns, )\n",
        "        \"\"\"\n",
        "        return -1 * np.mean(y * np.log(probs))\n",
        "\n",
        "    def mse(self, y, probs):\n",
        "        \"\"\"\n",
        "        y:      1D array of shape (no of patterns, )\n",
        "        probs:  1D array of shape (no of patterns, )\n",
        "        \"\"\"\n",
        "        return (((y - probs)**2).mean())/2\n",
        "        \n",
        "    def fit(self, X, y, epoch, roh, lr):\n",
        "        \"\"\"\n",
        "        X: 2D array of shape (no of patterns in training set, no of features)\n",
        "        y: 1D array of shape (no of patterns in training set, )\n",
        "        epoch:  int, convergence criteria (hyperparameter)\n",
        "        roh:    float, convergence criteria (hyperparameter)\n",
        "        lr:     float, learning rate (hyperparameter)\n",
        "        \"\"\"\n",
        "        self.epoch = epoch\n",
        "        self.roh = roh\n",
        "        self.lr = lr \n",
        "        self.classes = np.unique(y)\n",
        "        self.class_labels = {c:i for i,c in enumerate(self.classes)}\n",
        "        X = self.add_bias(X)\n",
        "        y = self.one_hot(y)\n",
        "        self.loss = []\n",
        "        self.weights = np.zeros(shape=(len(self.classes),X.shape[1]))*0.1\n",
        "        self.fit_data(X, y)\n",
        "        return self\n",
        " \n",
        "    def fit_data(self, X, y):\n",
        "        \"\"\"\n",
        "        X: 2D array of shape (no of patterns, no of features)\n",
        "        y: 1D array of shape (no of patterns, )\n",
        "        \"\"\"\n",
        "        itr = 0\n",
        "        while (not self.epoch or itr < self.epoch):\n",
        "            self.loss.append(self.mse(y, self.predict_(X)))\n",
        "            # put the thershold function on the predicted value i.e. here self.predict_(X)\n",
        "            temp = self.predict_(X)\n",
        "            #print(\"Iteration: \", itr+1, \" Mse: \", self.mse(y, self.predict_(X)))\n",
        "            error = y - temp\n",
        "            update = (self.lr * np.dot(error.T, X))\n",
        "            self.weights += update\n",
        "            if np.abs(update).max() < self.roh:\n",
        "              print(\"Converged through roh criteria.\")\n",
        "              break\n",
        "            itr +=1\n",
        "        if(itr==self.epoch):\n",
        "          print(\"Converged through maximum of Iteration:\")"
      ],
      "execution_count": 31,
      "outputs": []
    },
    {
      "cell_type": "code",
      "metadata": {
        "id": "cKQR0_7J1LHZ"
      },
      "source": [
        "# hyperparameter tuning\n",
        "def sn_hyperparameter_tuning(epoch, alpha, roh, X_train, X_validation, y_train, y_validation):\n",
        "  val_acc = []\n",
        "  train_acc = []\n",
        "  for i in range(0, epoch.shape[0]):\n",
        "    # we are taking logloss function for error calculation\n",
        "    sn_classifier = SigmoidNeuron().fit(X_train, y_train, epoch = epoch[i], roh = roh[i], lr = alpha[i])\n",
        "    predicted = sn_classifier.predict_classes(X_validation)\n",
        "    val_acc.append(accuracy_score(y_validation, predicted)*100)\n",
        "    train_predicted = sn_classifier.predict_classes(X_train)\n",
        "    train_acc.append(accuracy_score(y_train, train_predicted)*100)\n",
        "  # Get the maximum accuracy on validation\n",
        "  print(\"Training Accuracy: \", train_acc)\n",
        "  print(\"Validation Accuracy: \", val_acc)\n",
        "  # Get the maximum accuracy on validation\n",
        "  max_value = max(val_acc)\n",
        "  max_index = val_acc.index(max_value)\n",
        "  best_hyperparameter = (epoch[max_index], alpha[max_index], roh[max_index])\n",
        "  print(\"Best Hyperparameter:\")\n",
        "  print(\"Epoch = \", epoch[max_index])\n",
        "  print(\"Alpha = \", alpha[max_index])\n",
        "  print(\"Roh = \", roh[max_index])\n",
        "  return best_hyperparameter"
      ],
      "execution_count": 32,
      "outputs": []
    },
    {
      "cell_type": "code",
      "metadata": {
        "colab": {
          "base_uri": "https://localhost:8080/"
        },
        "id": "HgvCLco_1UhF",
        "outputId": "b2f40eaf-b6a0-459b-a3ca-92288c6baab2"
      },
      "source": [
        "epoch = np.array([100, 150, 200, 250, 300, 350, 400, 450, 500, 550])\n",
        "alpha = np.array([0.0001, 0.0001, 0.00001, 0.00001, 0.00001, 0.00001, 0.00001, 0.00001, 0.0001, 0.0001])\n",
        "roh = np.array([0.00001, 0.00001, 0.000001, 0.0000001, 0.000001, 0.0001, 0.0001, 0.0001, 0.0001, 0.000001])\n",
        "epoch, alpha, roh = sn_hyperparameter_tuning(epoch, alpha, roh, X_train, X_validation, y_train, y_validation)"
      ],
      "execution_count": 33,
      "outputs": [
        {
          "output_type": "stream",
          "name": "stdout",
          "text": [
            "Converged through maximum of Iteration:\n",
            "Converged through maximum of Iteration:\n",
            "Converged through maximum of Iteration:\n",
            "Converged through maximum of Iteration:\n",
            "Converged through maximum of Iteration:\n",
            "Converged through maximum of Iteration:\n",
            "Converged through maximum of Iteration:\n",
            "Converged through maximum of Iteration:\n",
            "Converged through maximum of Iteration:\n",
            "Converged through maximum of Iteration:\n",
            "Training Accuracy:  [90.95607235142118, 90.95607235142118, 90.95607235142118, 90.95607235142118, 90.95607235142118, 90.95607235142118, 90.95607235142118, 90.95607235142118, 90.95607235142118, 90.95607235142118]\n",
            "Validation Accuracy:  [89.69072164948454, 89.69072164948454, 89.69072164948454, 89.69072164948454, 89.69072164948454, 89.69072164948454, 89.69072164948454, 89.69072164948454, 89.69072164948454, 89.69072164948454]\n",
            "Best Hyperparameter:\n",
            "Epoch =  100\n",
            "Alpha =  0.0001\n",
            "Roh =  1e-05\n"
          ]
        }
      ]
    },
    {
      "cell_type": "code",
      "metadata": {
        "colab": {
          "base_uri": "https://localhost:8080/"
        },
        "id": "YVYXCUsY1fWQ",
        "outputId": "6c474194-154c-4ff6-e921-c0c1d0226624"
      },
      "source": [
        "for i in range(0, 5): # for 5 fold\n",
        "  print(\"For fold no:\", i+1)\n",
        "  print(\"-\"*100)\n",
        "  sn = SigmoidNeuron().fit(all_x_train[i], all_y_train[i], epoch = epoch, roh = roh, lr = alpha)\n",
        "  print(\"Accuracy on training data: \" + str(sn.score(all_x_train[i], all_y_train[i])*100) + \"%\")\n",
        "  predicted = sn.predict_classes(all_x_test[i])\n",
        "  print(\"Testing Accuracy Score: \" + str(accuracy_score(all_y_test[i], predicted)*100))\n",
        "  print('Confusion Matrix : \\n' + str(confusion_matrix(all_y_test[i], predicted)))\n",
        "  print(classification_report(all_y_test[i], predicted))\n",
        "  print(\"-\"*100)"
      ],
      "execution_count": 34,
      "outputs": [
        {
          "output_type": "stream",
          "name": "stdout",
          "text": [
            "For fold no: 1\n",
            "----------------------------------------------------------------------------------------------------\n",
            "Converged through maximum of Iteration:\n",
            "Accuracy on training data: 90.70247933884298%\n",
            "Testing Accuracy Score: 87.70491803278688\n",
            "Confusion Matrix : \n",
            "[[  0   7   0]\n",
            " [  0 107   0]\n",
            " [  0   8   0]]\n",
            "              precision    recall  f1-score   support\n",
            "\n",
            "           1       0.00      0.00      0.00         7\n",
            "           2       0.88      1.00      0.93       107\n",
            "           3       0.00      0.00      0.00         8\n",
            "\n",
            "    accuracy                           0.88       122\n",
            "   macro avg       0.29      0.33      0.31       122\n",
            "weighted avg       0.77      0.88      0.82       122\n",
            "\n",
            "----------------------------------------------------------------------------------------------------\n",
            "For fold no: 2\n",
            "----------------------------------------------------------------------------------------------------\n",
            "Converged through maximum of Iteration:\n",
            "Accuracy on training data: 89.48453608247424%\n",
            "Testing Accuracy Score: 92.56198347107438\n",
            "Confusion Matrix : \n",
            "[[  0   5   0]\n",
            " [  0 112   0]\n",
            " [  0   4   0]]\n",
            "              precision    recall  f1-score   support\n",
            "\n",
            "           1       0.00      0.00      0.00         5\n",
            "           2       0.93      1.00      0.96       112\n",
            "           3       0.00      0.00      0.00         4\n",
            "\n",
            "    accuracy                           0.93       121\n",
            "   macro avg       0.31      0.33      0.32       121\n",
            "weighted avg       0.86      0.93      0.89       121\n",
            "\n",
            "----------------------------------------------------------------------------------------------------\n",
            "For fold no: 3\n",
            "----------------------------------------------------------------------------------------------------\n",
            "Converged through maximum of Iteration:\n",
            "Accuracy on training data: 89.89690721649485%\n",
            "Testing Accuracy Score: 90.9090909090909\n",
            "Confusion Matrix : \n",
            "[[  0   5   0]\n",
            " [  0 110   0]\n",
            " [  0   6   0]]\n",
            "              precision    recall  f1-score   support\n",
            "\n",
            "           1       0.00      0.00      0.00         5\n",
            "           2       0.91      1.00      0.95       110\n",
            "           3       0.00      0.00      0.00         6\n",
            "\n",
            "    accuracy                           0.91       121\n",
            "   macro avg       0.30      0.33      0.32       121\n",
            "weighted avg       0.83      0.91      0.87       121\n",
            "\n",
            "----------------------------------------------------------------------------------------------------\n",
            "For fold no: 4\n",
            "----------------------------------------------------------------------------------------------------\n",
            "Converged through maximum of Iteration:\n",
            "Accuracy on training data: 89.89690721649485%\n",
            "Testing Accuracy Score: 90.9090909090909\n",
            "Confusion Matrix : \n",
            "[[  0   4   0]\n",
            " [  0 110   0]\n",
            " [  0   7   0]]\n",
            "              precision    recall  f1-score   support\n",
            "\n",
            "           1       0.00      0.00      0.00         4\n",
            "           2       0.91      1.00      0.95       110\n",
            "           3       0.00      0.00      0.00         7\n",
            "\n",
            "    accuracy                           0.91       121\n",
            "   macro avg       0.30      0.33      0.32       121\n",
            "weighted avg       0.83      0.91      0.87       121\n",
            "\n",
            "----------------------------------------------------------------------------------------------------\n",
            "For fold no: 5\n",
            "----------------------------------------------------------------------------------------------------\n",
            "Converged through maximum of Iteration:\n",
            "Accuracy on training data: 90.51546391752578%\n",
            "Testing Accuracy Score: 88.42975206611571\n",
            "Confusion Matrix : \n",
            "[[  0   6   0]\n",
            " [  0 107   0]\n",
            " [  0   8   0]]\n",
            "              precision    recall  f1-score   support\n",
            "\n",
            "           1       0.00      0.00      0.00         6\n",
            "           2       0.88      1.00      0.94       107\n",
            "           3       0.00      0.00      0.00         8\n",
            "\n",
            "    accuracy                           0.88       121\n",
            "   macro avg       0.29      0.33      0.31       121\n",
            "weighted avg       0.78      0.88      0.83       121\n",
            "\n",
            "----------------------------------------------------------------------------------------------------\n"
          ]
        }
      ]
    },
    {
      "cell_type": "code",
      "metadata": {
        "id": "8E3JlVHx1faN"
      },
      "source": [
        "# Overfit Detection\n",
        "import numpy as np\n",
        "import matplotlib.pyplot as plt\n",
        "# it's slp\n",
        "class Overfit_SigmoidNeuron():\n",
        "    def predict(self, X):\n",
        "        \"\"\"\n",
        "        X: 2D array of shape (no of patterns, no of features)\n",
        "        \"\"\"\n",
        "        return self.predict_(self.add_bias(X))\n",
        "    \n",
        "    def predict_(self, X):\n",
        "        \"\"\"\n",
        "        X: 2D array of shape (no of patterns, no of features)\n",
        "        \"\"\"\n",
        "        pre_vals = np.dot(X, self.weights.T).reshape(-1, len(np.unique(y)))\n",
        "        return self.softmax(pre_vals)\n",
        "    \n",
        "    def softmax(self, z):\n",
        "        \"\"\"\n",
        "        z: 1D array of shape (no of patterns, )\n",
        "        \"\"\"\n",
        "        return np.exp(z) / np.sum(np.exp(z), axis=1).reshape(-1,1)\n",
        "\n",
        "    def predict_classes(self, X):\n",
        "        \"\"\"\n",
        "        X: 2D array of shape (no of patterns, no of features)\n",
        "        \"\"\"\n",
        "        self.probs_ = self.predict(X)\n",
        "        return np.vectorize(lambda c: self.classes[c])(np.argmax(self.probs_, axis=1))\n",
        "  \n",
        "    def add_bias(self, X):\n",
        "        \"\"\"\n",
        "        X: 2D array of shape (no of patterns, no of features)\n",
        "        \"\"\"\n",
        "        return np.insert(X, 0, 1, axis=1)\n",
        "\n",
        "    def one_hot(self, y):\n",
        "        \"\"\"\n",
        "        y: 1D array of shape (no of patterns, )\n",
        "        \"\"\"\n",
        "        return np.eye(len(self.classes))[np.vectorize(lambda c: self.class_labels[c])(y).reshape(-1)]\n",
        "    \n",
        "    def score(self, X, y):\n",
        "        \"\"\"\n",
        "        X: 2D array of shape (no of patterns, no of features)\n",
        "        y: 1D array of shape (no of patterns, )\n",
        "        \"\"\"\n",
        "        return np.mean(self.predict_classes(X) == y)\n",
        "    \n",
        "    def evaluate_(self, X, y):\n",
        "        \"\"\"\n",
        "        X: 2D array of shape (no of patterns, no of features)\n",
        "        y: 1D array of shape (no of patterns, )\n",
        "        \"\"\"\n",
        "        return np.mean(np.argmax(self.predict_(X), axis=1) == np.argmax(y, axis=1))\n",
        "\n",
        "    def logloss(self, y, probs):\n",
        "        \"\"\"\n",
        "        y: 1D array of shape (no of patterns, )\n",
        "        probs: 1D array of shape (no of patterns, )\n",
        "        \"\"\"\n",
        "        return np.mean(-y*np.log(probs) - (1-y)*np.log(1-probs))\n",
        "\n",
        "    def cross_entropy(self, y, probs):\n",
        "        \"\"\"\n",
        "        y: 1D array of shape (no of patterns, )\n",
        "        probs: 1D array of shape (no of patterns, )\n",
        "        \"\"\"\n",
        "        return -1 * np.mean(y * np.log(probs))\n",
        "\n",
        "    def mse(self, y, probs):\n",
        "        \"\"\"\n",
        "        y: 1D array of shape (no of patterns, )\n",
        "        probs: 1D array of shape (no of patterns, )\n",
        "        \"\"\"\n",
        "        return (((y - probs)**2).mean())/2\n",
        "        \n",
        "    def fit(self, X, y, X_validation, y_validation, epoch, roh, lr):\n",
        "        \"\"\"\n",
        "        X: 2D array of shape (no of patterns in training set, no of features)\n",
        "        y: 1D array of shape (no of patterns in training set, )\n",
        "        X_validation: 2D array of shape (no of patterns in validation set, no of features)\n",
        "        y_validation: 1D array of shape (no of patterns in validation set, )\n",
        "        epoch:  int, convergence criteria (hyperparameter)\n",
        "        roh:    float, convergence criteria (hyperparameter)\n",
        "        lr:     float, learning rate (hyperparameter)\n",
        "        \"\"\"\n",
        "        self.epoch = epoch\n",
        "        self.roh = roh\n",
        "        self.lr = lr \n",
        "        self.classes = np.unique(y)\n",
        "        self.class_labels = {c:i for i,c in enumerate(self.classes)}\n",
        "        X = self.add_bias(X)\n",
        "        X_validation  = self.add_bias(X_validation)\n",
        "        y = self.one_hot(y)\n",
        "        y_valid = self.one_hot(y_validation)\n",
        "        self.loss_train = []\n",
        "        self.loss_valid = []\n",
        "        self.weights = np.zeros(shape=(len(self.classes),X.shape[1]))*0.1\n",
        "        self.fit_data(X, y, X_validation, y_valid)\n",
        "        return self\n",
        " \n",
        "    def fit_data(self, X, y, X_validation, y_valid):\n",
        "        \"\"\"\n",
        "        X: 2D array of shape (no of patterns in training set, no of features)\n",
        "        y: 1D array of shape (no of patterns in training set, )\n",
        "        X_validation: 2D array of shape (no of patterns in validation set, no of features)\n",
        "        y_validation: 1D array of shape (no of patterns in validation set, )\n",
        "        \"\"\"\n",
        "        itr = 0\n",
        "        while (not self.epoch or itr < self.epoch):\n",
        "            self.loss_train.append(self.mse(y, self.predict_(X)))\n",
        "            self.loss_valid.append(self.mse(y_valid, self.predict_(X_validation)))\n",
        "            # put the thershold function on the predicted value i.e. here self.predict_(X)\n",
        "            temp = self.predict_(X)\n",
        "            #print(\"Iteration: \", itr+1, \" Mse: \", self.mse(y, self.predict_(X)))\n",
        "            error = y - temp\n",
        "            update = (self.lr * np.dot(error.T, X))\n",
        "            self.weights += update\n",
        "            if np.abs(update).max() < self.roh:\n",
        "              print(\"Converged through roh criteria.\")\n",
        "              break\n",
        "            itr +=1\n",
        "        if(itr==self.epoch):\n",
        "          print(\"Converged through maximum of Iteration:\")"
      ],
      "execution_count": 35,
      "outputs": []
    },
    {
      "cell_type": "code",
      "metadata": {
        "colab": {
          "base_uri": "https://localhost:8080/"
        },
        "id": "NkeWf1W_1xQt",
        "outputId": "ce2e995e-6927-4937-fa17-72c6edeb6012"
      },
      "source": [
        "osn = Overfit_SigmoidNeuron().fit(X_train, y_train, X_validation, y_validation, epoch, alpha, roh)\n",
        "print(\"Accuracy on training data: \" + str(osn.score(X_train, y_train)*100) + \"%\")\n",
        "print(\"-\"*100)\n",
        "test_predicted = osn.predict_classes(all_x_test[0])\n",
        "print(\"Testing Accuracy Score: \" + str(accuracy_score(all_y_test[0], test_predicted)*100))\n",
        "print(\"Testing Confusion Matrix : \\n\" + str(confusion_matrix(all_y_test[0], test_predicted)))\n",
        "print(\"-\"*100)\n",
        "valid_predicted = osn.predict_classes(X_validation)\n",
        "print(\"Validation Accuracy Score: \" + str(accuracy_score(y_validation, valid_predicted)*100))\n",
        "print(\"Validation Confusion Matrix : \\n\" + str(confusion_matrix(y_validation, valid_predicted)))\n",
        "print(\"-\"*100)"
      ],
      "execution_count": 36,
      "outputs": [
        {
          "output_type": "stream",
          "name": "stdout",
          "text": [
            "Converged through maximum of Iteration:\n",
            "Accuracy on training data: 90.95607235142118%\n",
            "----------------------------------------------------------------------------------------------------\n",
            "Testing Accuracy Score: 87.70491803278688\n",
            "Testing Confusion Matrix : \n",
            "[[  0   7   0]\n",
            " [  0 107   0]\n",
            " [  0   8   0]]\n",
            "----------------------------------------------------------------------------------------------------\n",
            "Validation Accuracy Score: 89.69072164948454\n",
            "Validation Confusion Matrix : \n",
            "[[ 0  8  0]\n",
            " [ 0 87  0]\n",
            " [ 0  2  0]]\n",
            "----------------------------------------------------------------------------------------------------\n"
          ]
        }
      ]
    },
    {
      "cell_type": "code",
      "metadata": {
        "colab": {
          "base_uri": "https://localhost:8080/",
          "height": 295
        },
        "id": "5sYb3ZCM1xwC",
        "outputId": "fcb7d022-6211-4d52-a3ab-dbc9acb8336c"
      },
      "source": [
        "loss_train_mse = osn.loss_train\n",
        "loss_valid_mse = osn.loss_valid\n",
        "def plotting(x, y_1, y_2, label_1, label_2, t):\n",
        "  plt.plot(x, y_1, label = label_1)\n",
        "  plt.plot(x, y_2, label = label_2)\n",
        "  plt.xlabel(\"Epoch\")\n",
        "  plt.ylabel(\"Training and Validation MSE\")\n",
        "  plt.legend()\n",
        "  plt.title(t)\n",
        "  plt.savefig(\"sn_overfit.pdf\")\n",
        "  plt.show()\n",
        "x = []\n",
        "for i in range(0, len(loss_valid_mse)):\n",
        "  x.append(i)\n",
        "plotting(x, loss_train_mse, loss_valid_mse, \"Training MSE\", \"Validation MSE\", \"Training and Validation MSE\")"
      ],
      "execution_count": 37,
      "outputs": [
        {
          "output_type": "display_data",
          "data": {
            "image/png": "[encoded data removed]",
            "text/plain": [
              "<Figure size 432x288 with 1 Axes>"
            ]
          },
          "metadata": {
            "needs_background": "light"
          }
        }
      ]
    },
    {
      "cell_type": "code",
      "metadata": {
        "id": "ZDxSpuKK1x1O"
      },
      "source": [
        ""
      ],
      "execution_count": 37,
      "outputs": []
    },
    {
      "cell_type": "markdown",
      "metadata": {
        "id": "tIQdZiooWYAA"
      },
      "source": [
        "# MLP (with one hidden layer)"
      ]
    },
    {
      "cell_type": "code",
      "metadata": {
        "id": "C3hOn6WaWTmV"
      },
      "source": [
        "from sklearn.neural_network import MLPClassifier"
      ],
      "execution_count": 38,
      "outputs": []
    },
    {
      "cell_type": "code",
      "metadata": {
        "id": "JkeXOVgyWgY5"
      },
      "source": [
        "# hyperparameter tuning for logistic accuracy\n",
        "def mlp_hyperparameter_tuning(no_of_hidden_neurons, epoch, alpha, roh, n_iter_no_change, X_train, X_validation, y_train, y_validation):\n",
        "  val_acc = []\n",
        "  for i in range(0, epoch.shape[0]):\n",
        "    mlp_classifier = MLPClassifier(hidden_layer_sizes = (no_of_hidden_neurons[i],), activation = 'logistic', solver = 'sgd', learning_rate = 'constant',\\\n",
        "      learning_rate_init = alpha[i], max_iter = epoch[i], shuffle = True, random_state = 100, tol = roh[i],\\\n",
        "      verbose = False, early_stopping = True, n_iter_no_change = n_iter_no_change[i]).fit(X_train, y_train)\n",
        "    # we are taking logloss function for error calculation\n",
        "    predicted = mlp_classifier.predict(X_validation)\n",
        "    val_acc.append(accuracy_score(y_validation, predicted)*100)\n",
        "  # Get the maximum accuracy on validation\n",
        "  max_value = max(val_acc)\n",
        "  max_index = val_acc.index(max_value)\n",
        "  best_hyperparameter = (no_of_hidden_neurons[max_index], epoch[max_index], alpha[max_index], roh[max_index], n_iter_no_change[max_index])\n",
        "  print(\"Best Hyperparameter:\")\n",
        "  print(\"No of neurons in the 1st hidden layer = \", no_of_hidden_neurons[max_index])\n",
        "  print(\"Epoch = \", epoch[max_index])\n",
        "  print(\"Alpha = \", alpha[max_index])\n",
        "  print(\"Roh = \", roh[max_index])\n",
        "  print(\"n_iter_no_change (Number of iterations with no improvement) = \", n_iter_no_change[max_index])\n",
        "  return best_hyperparameter"
      ],
      "execution_count": 39,
      "outputs": []
    },
    {
      "cell_type": "code",
      "metadata": {
        "colab": {
          "base_uri": "https://localhost:8080/"
        },
        "id": "XNSypCP52Pbu",
        "outputId": "ee4646aa-23f2-4c3a-baed-98f56941b14b"
      },
      "source": [
        "no_of_hidden_neurons = np.array([561, 581, 591, 600, 620, 650, 670, 700, 730, 750])\n",
        "epoch = np.array([100, 150, 200, 250, 300, 350, 400, 450, 500, 550])\n",
        "alpha = np.array([0.01, 0.001, 0.0001, 0.00001, 0.125, 0.15, 0.18, 0.2, 0.25, 0.3])\n",
        "roh = np.array([0.00001, 0.00001, 0.000001, 0.0000001, 0.000001, 0.0001, 0.0001, 0.0001, 0.0001, 0.000001])\n",
        "n_iter_no_change = np.array([8, 9, 10, 11, 12, 13, 14, 15, 16, 18])\n",
        "no_of_hidden_neurons, epoch, alpha, roh, n_iter_no_change = mlp_hyperparameter_tuning(no_of_hidden_neurons, epoch, alpha, roh, n_iter_no_change, X_train, X_validation, y_train, y_validation)"
      ],
      "execution_count": 40,
      "outputs": [
        {
          "output_type": "stream",
          "name": "stdout",
          "text": [
            "Best Hyperparameter:\n",
            "No of neurons in the 1st hidden layer =  561\n",
            "Epoch =  100\n",
            "Alpha =  0.01\n",
            "Roh =  1e-05\n",
            "n_iter_no_change (Number of iterations with no improvement) =  8\n"
          ]
        }
      ]
    },
    {
      "cell_type": "code",
      "metadata": {
        "id": "USOgTUxBbI8e",
        "colab": {
          "base_uri": "https://localhost:8080/"
        },
        "outputId": "1bf5b4bd-9e76-4db9-a968-49aaee7b8de9"
      },
      "source": [
        "for i in range(0, 5): # for 5 fold\n",
        "  print(\"For fold no:\", i+1)\n",
        "  print(\"-\"*100)\n",
        "  mlp_classifier = MLPClassifier(hidden_layer_sizes = (no_of_hidden_neurons,), activation = 'logistic',\\\n",
        "                                 solver = 'sgd', learning_rate = 'constant', learning_rate_init = alpha,\\\n",
        "                                 max_iter = epoch, shuffle = True, random_state = 100, tol = roh,\\\n",
        "                            verbose = False, early_stopping = True, n_iter_no_change = n_iter_no_change)\n",
        "  mlp_classifier.fit(all_x_train[i], all_y_train[i])\n",
        "  print(\"Accuracy on training data: \" + str(mlp_classifier.score(all_x_train[i], all_y_train[i])*100) + \"%\")\n",
        "  predicted = mlp_classifier.predict(all_x_test[i])\n",
        "  print(\"Testing Accuracy Score: \" + str(accuracy_score(all_y_test[i], predicted)*100))\n",
        "  print(\"Confusion Matrix : \\n\" + str(confusion_matrix(all_y_test[i], predicted)))\n",
        "  print(\"Classification Report for 6-classes: \")\n",
        "  # out_labels = [1, 2, 3, 4, 5, 6]\n",
        "  print(classification_report(all_y_test[i], predicted,  digits=4))\n",
        "  print(\"-\"*100)"
      ],
      "execution_count": 41,
      "outputs": [
        {
          "output_type": "stream",
          "name": "stdout",
          "text": [
            "For fold no: 1\n",
            "----------------------------------------------------------------------------------------------------\n",
            "Accuracy on training data: 90.70247933884298%\n",
            "Testing Accuracy Score: 87.70491803278688\n",
            "Confusion Matrix : \n",
            "[[  0   7   0]\n",
            " [  0 107   0]\n",
            " [  0   8   0]]\n",
            "Classification Report for 6-classes: \n",
            "              precision    recall  f1-score   support\n",
            "\n",
            "           1     0.0000    0.0000    0.0000         7\n",
            "           2     0.8770    1.0000    0.9345       107\n",
            "           3     0.0000    0.0000    0.0000         8\n",
            "\n",
            "    accuracy                         0.8770       122\n",
            "   macro avg     0.2923    0.3333    0.3115       122\n",
            "weighted avg     0.7692    0.8770    0.8196       122\n",
            "\n",
            "----------------------------------------------------------------------------------------------------\n",
            "For fold no: 2\n",
            "----------------------------------------------------------------------------------------------------\n",
            "Accuracy on training data: 89.48453608247424%\n",
            "Testing Accuracy Score: 92.56198347107438\n",
            "Confusion Matrix : \n",
            "[[  0   5   0]\n",
            " [  0 112   0]\n",
            " [  0   4   0]]\n",
            "Classification Report for 6-classes: \n",
            "              precision    recall  f1-score   support\n",
            "\n",
            "           1     0.0000    0.0000    0.0000         5\n",
            "           2     0.9256    1.0000    0.9614       112\n",
            "           3     0.0000    0.0000    0.0000         4\n",
            "\n",
            "    accuracy                         0.9256       121\n",
            "   macro avg     0.3085    0.3333    0.3205       121\n",
            "weighted avg     0.8568    0.9256    0.8899       121\n",
            "\n",
            "----------------------------------------------------------------------------------------------------\n",
            "For fold no: 3\n",
            "----------------------------------------------------------------------------------------------------\n",
            "Accuracy on training data: 89.89690721649485%\n",
            "Testing Accuracy Score: 90.9090909090909\n",
            "Confusion Matrix : \n",
            "[[  0   5   0]\n",
            " [  0 110   0]\n",
            " [  0   6   0]]\n",
            "Classification Report for 6-classes: \n",
            "              precision    recall  f1-score   support\n",
            "\n",
            "           1     0.0000    0.0000    0.0000         5\n",
            "           2     0.9091    1.0000    0.9524       110\n",
            "           3     0.0000    0.0000    0.0000         6\n",
            "\n",
            "    accuracy                         0.9091       121\n",
            "   macro avg     0.3030    0.3333    0.3175       121\n",
            "weighted avg     0.8264    0.9091    0.8658       121\n",
            "\n",
            "----------------------------------------------------------------------------------------------------\n",
            "For fold no: 4\n",
            "----------------------------------------------------------------------------------------------------\n",
            "Accuracy on training data: 89.89690721649485%\n",
            "Testing Accuracy Score: 90.9090909090909\n",
            "Confusion Matrix : \n",
            "[[  0   4   0]\n",
            " [  0 110   0]\n",
            " [  0   7   0]]\n",
            "Classification Report for 6-classes: \n",
            "              precision    recall  f1-score   support\n",
            "\n",
            "           1     0.0000    0.0000    0.0000         4\n",
            "           2     0.9091    1.0000    0.9524       110\n",
            "           3     0.0000    0.0000    0.0000         7\n",
            "\n",
            "    accuracy                         0.9091       121\n",
            "   macro avg     0.3030    0.3333    0.3175       121\n",
            "weighted avg     0.8264    0.9091    0.8658       121\n",
            "\n",
            "----------------------------------------------------------------------------------------------------\n",
            "For fold no: 5\n",
            "----------------------------------------------------------------------------------------------------\n",
            "Accuracy on training data: 90.51546391752578%\n",
            "Testing Accuracy Score: 88.42975206611571\n",
            "Confusion Matrix : \n",
            "[[  0   6   0]\n",
            " [  0 107   0]\n",
            " [  0   8   0]]\n",
            "Classification Report for 6-classes: \n",
            "              precision    recall  f1-score   support\n",
            "\n",
            "           1     0.0000    0.0000    0.0000         6\n",
            "           2     0.8843    1.0000    0.9386       107\n",
            "           3     0.0000    0.0000    0.0000         8\n",
            "\n",
            "    accuracy                         0.8843       121\n",
            "   macro avg     0.2948    0.3333    0.3129       121\n",
            "weighted avg     0.7820    0.8843    0.8300       121\n",
            "\n",
            "----------------------------------------------------------------------------------------------------\n"
          ]
        }
      ]
    },
    {
      "cell_type": "code",
      "metadata": {
        "colab": {
          "base_uri": "https://localhost:8080/"
        },
        "id": "X6usvEuU2oYB",
        "outputId": "479c3613-fbe4-4340-990b-61512e756bb4"
      },
      "source": [
        "# Is there any overfit issue?\n",
        "mlp_classifier = MLPClassifier(hidden_layer_sizes = (no_of_hidden_neurons,), activation = 'logistic',\\\n",
        "                                solver = 'sgd', learning_rate = 'constant', learning_rate_init = alpha,\\\n",
        "                                max_iter = epoch, shuffle = True, random_state = 100, tol = roh,\\\n",
        "                                verbose = False, early_stopping = True, n_iter_no_change = n_iter_no_change)\n",
        "mlp_classifier.fit(X_train, y_train)\n",
        "print(\"Accuracy on training data: \" + str(mlp_classifier.score(X_train, y_train)*100) + \"%\")\n",
        "print(\"-\"*100)\n",
        "test_predicted = mlp_classifier.predict(all_x_test[0])\n",
        "print(\"Testing Accuracy Score: \" + str(accuracy_score(all_y_test[0], test_predicted)*100))\n",
        "print(\"Testing Confusion Matrix : \\n\" + str(confusion_matrix(all_y_test[0], test_predicted)))\n",
        "print(\"-\"*100)\n",
        "valid_predicted = mlp_classifier.predict(X_validation)\n",
        "print(\"Validation Accuracy Score: \" + str(accuracy_score(y_validation, valid_predicted)*100))\n",
        "print(\"Validation Confusion Matrix : \\n\" + str(confusion_matrix(y_validation, valid_predicted)))\n",
        "print(\"-\"*100)"
      ],
      "execution_count": 42,
      "outputs": [
        {
          "output_type": "stream",
          "name": "stdout",
          "text": [
            "Accuracy on training data: 90.95607235142118%\n",
            "----------------------------------------------------------------------------------------------------\n",
            "Testing Accuracy Score: 87.70491803278688\n",
            "Testing Confusion Matrix : \n",
            "[[  0   7   0]\n",
            " [  0 107   0]\n",
            " [  0   8   0]]\n",
            "----------------------------------------------------------------------------------------------------\n",
            "Validation Accuracy Score: 89.69072164948454\n",
            "Validation Confusion Matrix : \n",
            "[[ 0  8  0]\n",
            " [ 0 87  0]\n",
            " [ 0  2  0]]\n",
            "----------------------------------------------------------------------------------------------------\n"
          ]
        }
      ]
    }
  ]
}